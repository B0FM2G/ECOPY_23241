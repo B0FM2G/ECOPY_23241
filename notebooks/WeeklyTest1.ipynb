{
 "cells": [
  {
   "cell_type": "markdown",
   "source": [
    "##### A feladatok megoldását mentse src/weekly modul-ba a weekly_test_1.py nevű fájlba\n",
    "###### A fájlba kommentként írd be a Neptun kódodat"
   ],
   "metadata": {
    "collapsed": false
   },
   "id": "a8cbfcd702b3de5"
  },
  {
   "cell_type": "code",
   "execution_count": null,
   "outputs": [],
   "source": [
    "#B0FM2G"
   ],
   "metadata": {
    "collapsed": false
   },
   "id": "7570820639b84ca8"
  },
  {
   "cell_type": "code",
   "execution_count": null,
   "outputs": [],
   "source": [
    "# 1., Írjon egy függvényt ami vissza adja a bemeneti lista páros elemeit\n",
    "# függvény név: evens_from_list\n",
    "# bemeneti paraméterek: input_list \n",
    "# kimeneti típus: List "
   ],
   "metadata": {
    "collapsed": false
   },
   "id": "7675f2ea543b3407"
  },
  {
   "cell_type": "code",
   "execution_count": 1,
   "outputs": [],
   "source": [
    "my_list = list(range(1, 11))\n",
    "def evens_from_list(input_list):\n",
    "    paros=[]\n",
    "    for index, element in enumerate(input_list):\n",
    "        if element%2==0:\n",
    "            paros.append(element)\n",
    "    return(paros)"
   ],
   "metadata": {
    "collapsed": false,
    "ExecuteTime": {
     "end_time": "2023-09-20T17:09:13.488468200Z",
     "start_time": "2023-09-20T17:09:13.456269600Z"
    }
   },
   "id": "249bcda88ef6bb9a"
  },
  {
   "cell_type": "code",
   "execution_count": 2,
   "outputs": [
    {
     "data": {
      "text/plain": "[2, 4, 6, 8, 10]"
     },
     "execution_count": 2,
     "metadata": {},
     "output_type": "execute_result"
    }
   ],
   "source": [
    "evens_from_list(my_list)"
   ],
   "metadata": {
    "collapsed": false,
    "ExecuteTime": {
     "end_time": "2023-09-20T17:09:15.234654500Z",
     "start_time": "2023-09-20T17:09:15.188959600Z"
    }
   },
   "id": "d7595a49d9eb729f"
  },
  {
   "cell_type": "code",
   "execution_count": null,
   "outputs": [],
   "source": [
    "# 2., Írjon egy függvényt ami megvizsgálja, hogy a listában minden elem páratlan-e\n",
    "# függvény név: every_element_is_odd\n",
    "# bemeneti paraméterek: input_list \n",
    "# kimeneti típus: bool "
   ],
   "metadata": {
    "collapsed": false
   },
   "id": "initial_id"
  },
  {
   "cell_type": "code",
   "execution_count": 26,
   "outputs": [],
   "source": [
    "def every_element_is_odd(input_list):\n",
    "    for element in input_list:\n",
    "        if element % 2 == 0:\n",
    "            return False\n",
    "    return True"
   ],
   "metadata": {
    "collapsed": false,
    "ExecuteTime": {
     "end_time": "2023-09-20T17:32:05.366694300Z",
     "start_time": "2023-09-20T17:32:05.329304500Z"
    }
   },
   "id": "f403d1a38951a2e5"
  },
  {
   "cell_type": "code",
   "execution_count": 27,
   "outputs": [
    {
     "data": {
      "text/plain": "False"
     },
     "execution_count": 27,
     "metadata": {},
     "output_type": "execute_result"
    }
   ],
   "source": [
    "every_element_is_odd(my_list)"
   ],
   "metadata": {
    "collapsed": false,
    "ExecuteTime": {
     "end_time": "2023-09-20T17:32:07.141737300Z",
     "start_time": "2023-09-20T17:32:07.111025500Z"
    }
   },
   "id": "32de36b5b20054fd"
  },
  {
   "cell_type": "code",
   "execution_count": null,
   "outputs": [],
   "source": [
    "# 3., Írjon egy függvényt ami visszaadja a k. legnagyobb elemet listában \n",
    "# függvény név: kth_largest_in_list\n",
    "# bemeneti paraméterek: input_list, kth_largest\n",
    "# kimeneti típus: int "
   ],
   "metadata": {
    "collapsed": false
   },
   "id": "884e2710a259cb85"
  },
  {
   "cell_type": "code",
   "execution_count": 19,
   "outputs": [],
   "source": [
    "def kth_largest_in_list(input_list,kth_largest):\n",
    "    input_list = sorted(input_list)\n",
    "    return(input_list[-kth_largest])"
   ],
   "metadata": {
    "collapsed": false,
    "ExecuteTime": {
     "end_time": "2023-09-20T17:29:15.361495600Z",
     "start_time": "2023-09-20T17:29:15.358113700Z"
    }
   },
   "id": "af9f705a9b8115f"
  },
  {
   "cell_type": "code",
   "execution_count": 24,
   "outputs": [
    {
     "data": {
      "text/plain": "10"
     },
     "execution_count": 24,
     "metadata": {},
     "output_type": "execute_result"
    }
   ],
   "source": [
    "kth_largest_in_list(my_list,1)"
   ],
   "metadata": {
    "collapsed": false,
    "ExecuteTime": {
     "end_time": "2023-09-20T17:29:36.337552600Z",
     "start_time": "2023-09-20T17:29:36.258812700Z"
    }
   },
   "id": "5a4c2a396921bf8d"
  },
  {
   "cell_type": "code",
   "execution_count": null,
   "outputs": [],
   "source": [
    "# 4., Írjon egy függvényt ami kiszámítja a lista elemek gördülő átlagát\n",
    "# függvény név: cumavg_list\n",
    "# bemeneti paraméterek: input_list \n",
    "# kimeneti típus: List "
   ],
   "metadata": {
    "collapsed": false
   },
   "id": "8021cc1853d79c8"
  },
  {
   "cell_type": "code",
   "execution_count": 29,
   "outputs": [],
   "source": [
    "def cumavg_list(input_list):\n",
    "    if not input_list:\n",
    "        return []\n",
    "    cumulative_sum = 0\n",
    "    cumulative_averages = []\n",
    "    for i, num in enumerate(input_list):\n",
    "        cumulative_sum += num\n",
    "        average = cumulative_sum / (i + 1)\n",
    "        cumulative_averages.append(average)\n",
    "    return cumulative_averages"
   ],
   "metadata": {
    "collapsed": false,
    "ExecuteTime": {
     "end_time": "2023-09-20T17:33:54.783571800Z",
     "start_time": "2023-09-20T17:33:54.720332700Z"
    }
   },
   "id": "1b934675038ee3d3"
  },
  {
   "cell_type": "code",
   "execution_count": 30,
   "outputs": [
    {
     "data": {
      "text/plain": "[1.0, 1.5, 2.0, 2.5, 3.0, 3.5, 4.0, 4.5, 5.0, 5.5]"
     },
     "execution_count": 30,
     "metadata": {},
     "output_type": "execute_result"
    }
   ],
   "source": [
    "cumavg_list(my_list)"
   ],
   "metadata": {
    "collapsed": false,
    "ExecuteTime": {
     "end_time": "2023-09-20T17:34:08.533278500Z",
     "start_time": "2023-09-20T17:34:08.524750700Z"
    }
   },
   "id": "185383fff68901dc"
  },
  {
   "cell_type": "code",
   "execution_count": null,
   "outputs": [],
   "source": [
    "# 5., Írjon egy függvényt ami kiszámítja 2 lista elemenként vett szorzatát\n",
    "# függvény név: element_wise_multiplication\n",
    "# bemeneti paraméterek: input_list1, input_list2 \n",
    "# kimeneti típus: List "
   ],
   "metadata": {
    "collapsed": false
   },
   "id": "323feea145ed36b4"
  },
  {
   "cell_type": "code",
   "execution_count": 61,
   "outputs": [],
   "source": [
    "my_list1 = list(range(1, 11))\n",
    "my_list2 = list(range(11, 21))\n",
    "def element_wise_multiplication(input_list1, input_list2):\n",
    "    szorzat = []\n",
    "    for index, element in enumerate(input_list1):\n",
    "        szorzat.append(input_list1[index]*input_list2[index])\n",
    "    return szorzat"
   ],
   "metadata": {
    "collapsed": false,
    "ExecuteTime": {
     "end_time": "2023-09-20T17:59:08.677086Z",
     "start_time": "2023-09-20T17:59:08.665840800Z"
    }
   },
   "id": "ce2d7d79deff3706"
  },
  {
   "cell_type": "code",
   "execution_count": 62,
   "outputs": [
    {
     "data": {
      "text/plain": "[11, 24, 39, 56, 75, 96, 119, 144, 171, 200]"
     },
     "execution_count": 62,
     "metadata": {},
     "output_type": "execute_result"
    }
   ],
   "source": [
    "element_wise_multiplication(my_list1, my_list2)"
   ],
   "metadata": {
    "collapsed": false,
    "ExecuteTime": {
     "end_time": "2023-09-20T17:59:10.654443Z",
     "start_time": "2023-09-20T17:59:10.621680Z"
    }
   },
   "id": "6674291fd3503469"
  },
  {
   "cell_type": "code",
   "execution_count": null,
   "outputs": [],
   "source": [
    "# 6., Írjon egy függvényt amely összekapcsol n listát 1 listába\n",
    "# függvény név: merge_lists\n",
    "# bemeneti paraméterek: *lists\n",
    "# kimeneti típus: List "
   ],
   "metadata": {
    "collapsed": false
   },
   "id": "d1dc000ed96cff44"
  },
  {
   "cell_type": "code",
   "execution_count": 36,
   "outputs": [],
   "source": [
    "my_list1=list(range(11,21))\n",
    "my_list2=list(range(1,11))\n",
    "def merge_lists(*lists):\n",
    "    merged = []\n",
    "    for i in lists:\n",
    "        merged.extend(i)\n",
    "    return merged"
   ],
   "metadata": {
    "collapsed": false,
    "ExecuteTime": {
     "end_time": "2023-09-20T17:38:44.034130Z",
     "start_time": "2023-09-20T17:38:44.024660300Z"
    }
   },
   "id": "c4af23267ba36eec"
  },
  {
   "cell_type": "code",
   "execution_count": 37,
   "outputs": [
    {
     "data": {
      "text/plain": "[11, 12, 13, 14, 15, 16, 17, 18, 19, 20, 1, 2, 3, 4, 5, 6, 7, 8, 9, 10]"
     },
     "execution_count": 37,
     "metadata": {},
     "output_type": "execute_result"
    }
   ],
   "source": [
    "merge_lists(my_list1,my_list2)"
   ],
   "metadata": {
    "collapsed": false,
    "ExecuteTime": {
     "end_time": "2023-09-20T17:38:45.582094300Z",
     "start_time": "2023-09-20T17:38:45.573351400Z"
    }
   },
   "id": "f1480710f296f984"
  },
  {
   "cell_type": "code",
   "execution_count": null,
   "outputs": [],
   "source": [
    "# 7., Írjon egy függvényt amely visszaadja a lista páratlan elemeinek a négyzetét\n",
    "# függvény név: squared_odds\n",
    "# bemeneti paraméterek: input_list\n",
    "# kimeneti típus: List "
   ],
   "metadata": {
    "collapsed": false
   },
   "id": "2841a2374dec25f5"
  },
  {
   "cell_type": "code",
   "execution_count": 8,
   "outputs": [],
   "source": [
    "my_list = list(range(1, 11))\n",
    "def squared_odds(input_list):\n",
    "    paratlan_negyzet = []\n",
    "    for index, element in enumerate(input_list):\n",
    "        if element % 2 == 1:\n",
    "            paratlan_negyzet.append(element**2)\n",
    "    return(paratlan_negyzet)"
   ],
   "metadata": {
    "collapsed": false,
    "ExecuteTime": {
     "end_time": "2023-09-20T17:14:13.696275200Z",
     "start_time": "2023-09-20T17:14:13.680146700Z"
    }
   },
   "id": "96beb0cb1de4283d"
  },
  {
   "cell_type": "code",
   "execution_count": 38,
   "outputs": [
    {
     "data": {
      "text/plain": "[121, 169, 225, 289, 361]"
     },
     "execution_count": 38,
     "metadata": {},
     "output_type": "execute_result"
    }
   ],
   "source": [
    "squared_odds(my_list1)"
   ],
   "metadata": {
    "collapsed": false,
    "ExecuteTime": {
     "end_time": "2023-09-20T17:39:23.509411600Z",
     "start_time": "2023-09-20T17:39:23.495002800Z"
    }
   },
   "id": "23caa98600146465"
  },
  {
   "cell_type": "code",
   "execution_count": null,
   "outputs": [],
   "source": [
    "# 8., Írjon egy függvényt amely a fordítottan sorba rendezi a kulcs-érték párokat a kulcs értéke szerint egy dictionary-ben\n",
    "# függvény név: reverse_sort_by_key\n",
    "# bemeneti paraméterek: input_dict\n",
    "# kimeneti típus: Dict "
   ],
   "metadata": {
    "collapsed": false
   },
   "id": "12e757ffc972f77a"
  },
  {
   "cell_type": "code",
   "execution_count": 40,
   "outputs": [],
   "source": [
    "my_dict= {\"math\":[5,4,3], \"literature\":[2,3,2,5], \"biology\":[4,3,1,4]}\n",
    "def reverse_sort_by_key(input_dict):\n",
    "    sorted_items = sorted(input_dict.items(), key=lambda x: x[0], reverse=True)\n",
    "    reversed_dict = dict(sorted_items)\n",
    "    return reversed_dict"
   ],
   "metadata": {
    "collapsed": false,
    "ExecuteTime": {
     "end_time": "2023-09-20T17:43:02.758689500Z",
     "start_time": "2023-09-20T17:43:02.753047700Z"
    }
   },
   "id": "e9a710de823bd229"
  },
  {
   "cell_type": "code",
   "execution_count": 41,
   "outputs": [
    {
     "data": {
      "text/plain": "{'math': [5, 4, 3], 'literature': [2, 3, 2, 5], 'biology': [4, 3, 1, 4]}"
     },
     "execution_count": 41,
     "metadata": {},
     "output_type": "execute_result"
    }
   ],
   "source": [
    "reverse_sort_by_key(my_dict)"
   ],
   "metadata": {
    "collapsed": false,
    "ExecuteTime": {
     "end_time": "2023-09-20T17:43:04.840915700Z",
     "start_time": "2023-09-20T17:43:04.824358300Z"
    }
   },
   "id": "e566b85e382d428d"
  },
  {
   "cell_type": "code",
   "execution_count": null,
   "outputs": [],
   "source": [
    "# 9., Írjon egy függvényt amely a bemeneti, pozitív egész számokat tartalmazó listát kiválogatja 2-vel, 5-el, 2-vel és 5-el, és egyikkel sem osztható számokat, és visszaad egy olyan dictionary-t, amelyben a kulcsok a 'by_two', 'by_five', 'by_two_and_five', és a 'by_none', az értékek, pedig a listák. (2 pont)\n",
    "# függvény név: sort_list_by_divisibility\n",
    "# bemeneti paraméterek: input_list\n",
    "# kimeneti típus: Dict "
   ],
   "metadata": {
    "collapsed": false
   },
   "id": "58dc0ff752928e36"
  },
  {
   "cell_type": "code",
   "execution_count": 68,
   "outputs": [],
   "source": [
    "def sort_list_by_divisibility(input_list):\n",
    "    by_two=[]\n",
    "    by_five=[]\n",
    "    by_two_and_five=[]\n",
    "    by_none=[]\n",
    "    for element in input_list:\n",
    "        if element%2==0 and element%5==0:\n",
    "            by_two_and_five.append(element)\n",
    "            by_two.append(element)\n",
    "            by_five.append(element)\n",
    "        elif element%5==0:\n",
    "            by_five.append(element)\n",
    "        elif element%2==0:\n",
    "            by_two.append(element)\n",
    "        else:\n",
    "            by_none.append(element)\n",
    "    div={'by_two':sorted(by_two), 'by_five':sorted(by_five), 'by_two_and_five':sorted(by_two_and_five), 'by_none':sorted(by_none)}\n",
    "    return(div)"
   ],
   "metadata": {
    "collapsed": false,
    "ExecuteTime": {
     "end_time": "2023-09-20T18:15:32.577393100Z",
     "start_time": "2023-09-20T18:15:32.524107Z"
    }
   },
   "id": "d62344d106bd25ab"
  },
  {
   "cell_type": "code",
   "execution_count": 69,
   "outputs": [
    {
     "data": {
      "text/plain": "{'by_two': [2, 4, 6, 8, 10],\n 'by_five': [2, 4, 5, 6, 8, 10],\n 'by_two_and_five': [2, 4, 6, 8, 10],\n 'by_none': [1, 3, 7, 9]}"
     },
     "execution_count": 69,
     "metadata": {},
     "output_type": "execute_result"
    }
   ],
   "source": [
    "sort_list_by_divisibility(my_list)"
   ],
   "metadata": {
    "collapsed": false,
    "ExecuteTime": {
     "end_time": "2023-09-20T18:15:34.259261100Z",
     "start_time": "2023-09-20T18:15:34.225852100Z"
    }
   },
   "id": "4dc12112d99a1b81"
  },
  {
   "cell_type": "code",
   "execution_count": null,
   "outputs": [],
   "source": [],
   "metadata": {
    "collapsed": false
   },
   "id": "157ca581056654f7"
  },
  {
   "cell_type": "markdown",
   "source": [],
   "metadata": {
    "collapsed": false
   },
   "id": "c0cd37813169932a"
  }
 ],
 "metadata": {
  "kernelspec": {
   "display_name": "Python 3",
   "language": "python",
   "name": "python3"
  },
  "language_info": {
   "codemirror_mode": {
    "name": "ipython",
    "version": 2
   },
   "file_extension": ".py",
   "mimetype": "text/x-python",
   "name": "python",
   "nbconvert_exporter": "python",
   "pygments_lexer": "ipython2",
   "version": "2.7.6"
  }
 },
 "nbformat": 4,
 "nbformat_minor": 5
}
