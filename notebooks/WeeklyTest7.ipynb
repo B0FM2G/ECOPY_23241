{
 "cells": [
  {
   "cell_type": "markdown",
   "id": "de9d9737616514b8",
   "metadata": {
    "collapsed": false
   },
   "source": [
    "Az osztály(oka)t mentsd a __src/linear_regression__ modul __LinearRegressions.py__ fájljába\n",
    "Használható modulok: _pathlib, pandas, typing, str, numpy_, valamint a _scipy.stats t_ és _f_ osztályai"
   ]
  },
  {
   "cell_type": "code",
   "execution_count": 1,
   "outputs": [],
   "source": [
    "%load_ext autoreload\n",
    "%autoreload 2"
   ],
   "metadata": {
    "collapsed": false,
    "ExecuteTime": {
     "end_time": "2023-11-08T18:19:20.685372200Z",
     "start_time": "2023-11-08T18:19:20.634054500Z"
    }
   },
   "id": "7066ec7a2294843b"
  },
  {
   "cell_type": "code",
   "execution_count": 2,
   "id": "dfea6e648868022e",
   "metadata": {
    "collapsed": false,
    "ExecuteTime": {
     "end_time": "2023-11-08T18:19:20.732821900Z",
     "start_time": "2023-11-08T18:19:20.690111200Z"
    }
   },
   "outputs": [],
   "source": [
    "from pathlib import Path\n"
   ]
  },
  {
   "cell_type": "code",
   "execution_count": 3,
   "outputs": [],
   "source": [
    "datalib = Path.cwd().parent.joinpath('data')"
   ],
   "metadata": {
    "collapsed": false,
    "ExecuteTime": {
     "end_time": "2023-11-08T18:19:20.775772800Z",
     "start_time": "2023-11-08T18:19:20.732821900Z"
    }
   },
   "id": "b0b5dd4685315eda"
  },
  {
   "cell_type": "markdown",
   "source": [
    "### Adatelőkészítés (0 pont)\n",
    "1., Olvasd be a data mappa __sp500.parquet__ nevű fájlját egy DataFrame-be. A betöltéshez használt engine paramétere legyen <u>fastparquet</u>\n",
    "2., Olvasd be az __ff_factors.parquet__ fájlt egy DataFrame-be. A betöltéshez használt engine paramétere legyen <u>fastparquet</u>\n",
    "3., Kapcsold össze a két DataFrame-t egy új DataFrame-be. Az összekapcsolás módja, hogy a hozam adatokra balról kapcsoljuk rá a factor adatokat a __'Date' elsődleges kulcs__ alapján.\n",
    "4., Készíts egy új __'Excess Return'__ nevű oszlopot, ami a havi hozamok és a kockázat mentes hozam (RF) különbsége\n",
    "5., <u>Rendezd sorba dátum szerint az adatokat</u>, majd generálj egy új oszlopot (__'ex_ret_1'__), amely minden ticker ('Symbol') esetén 1-el eltolja az Excess Return értékeit olyan módon, hogy minden sorban szerepeljen a <u>következő időszaki Excess Return</u> érték. \n",
    "6., A meglévő adathalmazt írd felül olyan módon, hogy egyszer <u>törlöd az össze olyan sort</u>, amely az __'ex_ret_1' oszlopban hiányos__, majd ezt követően, törlöd az összes olyan sort, ami a __'HML' oszlopban hiányos__.\n",
    "\n",
    "\n"
   ],
   "metadata": {
    "collapsed": false
   },
   "id": "dad5a013c358987e"
  },
  {
   "cell_type": "markdown",
   "source": [
    "3. feladat segítség\n",
    "![Joined data](../resources/weekly6/joined_data.jpg)"
   ],
   "metadata": {
    "collapsed": false
   },
   "id": "cf54c6765186a23e"
  },
  {
   "cell_type": "markdown",
   "source": [
    "5. feladat segítség\n",
    "![new column](../resources/weekly6/ex_ret_1.jpg)"
   ],
   "metadata": {
    "collapsed": false
   },
   "id": "a6be746933376572"
  },
  {
   "cell_type": "code",
   "execution_count": 7,
   "id": "44865d1982f4fe17",
   "metadata": {
    "collapsed": false,
    "ExecuteTime": {
     "end_time": "2023-11-08T18:22:16.077770700Z",
     "start_time": "2023-11-08T18:22:15.922038500Z"
    }
   },
   "outputs": [
    {
     "data": {
      "text/plain": "           Symbol  Monthly Returns  Mkt-RF     SMB     HML     RF  \\\nDate                                                                \n2000-01-31   CPRT        -0.987130 -0.0474  0.0577 -0.0188  0.041   \n2000-01-31    LNT        -0.988305 -0.0474  0.0577 -0.0188  0.041   \n2000-01-31   BKNG         6.844284 -0.0474  0.0577 -0.0188  0.041   \n2000-01-31    SPG        -0.889351 -0.0474  0.0577 -0.0188  0.041   \n2000-01-31    LMT        -0.971967 -0.0474  0.0577 -0.0188  0.041   \n...           ...              ...     ...     ...     ...    ...   \n2022-10-31    MAA         0.024170  0.0783  0.0006  0.0801  0.023   \n2022-10-31    CME        -0.021622  0.0783  0.0006  0.0801  0.023   \n2022-10-31   EBAY         0.082314  0.0783  0.0006  0.0801  0.023   \n2022-10-31      V         0.166113  0.0783  0.0006  0.0801  0.023   \n2022-10-31     MU         0.082119  0.0783  0.0006  0.0801  0.023   \n\n            Excess Return  ex_ret_1  \nDate                                 \n2000-01-31      -1.028130  0.194133  \n2000-01-31      -1.029305 -0.099604  \n2000-01-31       6.803284 -0.078560  \n2000-01-31      -0.930351 -0.076494  \n2000-01-31      -1.012967 -0.100433  \n...                   ...       ...  \n2022-10-31       0.001170  0.018190  \n2022-10-31      -0.044622 -0.010535  \n2022-10-31       0.059314  0.117324  \n2022-10-31       0.143113  0.020841  \n2022-10-31       0.059119  0.036619  \n\n[86113 rows x 8 columns]",
      "text/html": "<div>\n<style scoped>\n    .dataframe tbody tr th:only-of-type {\n        vertical-align: middle;\n    }\n\n    .dataframe tbody tr th {\n        vertical-align: top;\n    }\n\n    .dataframe thead th {\n        text-align: right;\n    }\n</style>\n<table border=\"1\" class=\"dataframe\">\n  <thead>\n    <tr style=\"text-align: right;\">\n      <th></th>\n      <th>Symbol</th>\n      <th>Monthly Returns</th>\n      <th>Mkt-RF</th>\n      <th>SMB</th>\n      <th>HML</th>\n      <th>RF</th>\n      <th>Excess Return</th>\n      <th>ex_ret_1</th>\n    </tr>\n    <tr>\n      <th>Date</th>\n      <th></th>\n      <th></th>\n      <th></th>\n      <th></th>\n      <th></th>\n      <th></th>\n      <th></th>\n      <th></th>\n    </tr>\n  </thead>\n  <tbody>\n    <tr>\n      <th>2000-01-31</th>\n      <td>CPRT</td>\n      <td>-0.987130</td>\n      <td>-0.0474</td>\n      <td>0.0577</td>\n      <td>-0.0188</td>\n      <td>0.041</td>\n      <td>-1.028130</td>\n      <td>0.194133</td>\n    </tr>\n    <tr>\n      <th>2000-01-31</th>\n      <td>LNT</td>\n      <td>-0.988305</td>\n      <td>-0.0474</td>\n      <td>0.0577</td>\n      <td>-0.0188</td>\n      <td>0.041</td>\n      <td>-1.029305</td>\n      <td>-0.099604</td>\n    </tr>\n    <tr>\n      <th>2000-01-31</th>\n      <td>BKNG</td>\n      <td>6.844284</td>\n      <td>-0.0474</td>\n      <td>0.0577</td>\n      <td>-0.0188</td>\n      <td>0.041</td>\n      <td>6.803284</td>\n      <td>-0.078560</td>\n    </tr>\n    <tr>\n      <th>2000-01-31</th>\n      <td>SPG</td>\n      <td>-0.889351</td>\n      <td>-0.0474</td>\n      <td>0.0577</td>\n      <td>-0.0188</td>\n      <td>0.041</td>\n      <td>-0.930351</td>\n      <td>-0.076494</td>\n    </tr>\n    <tr>\n      <th>2000-01-31</th>\n      <td>LMT</td>\n      <td>-0.971967</td>\n      <td>-0.0474</td>\n      <td>0.0577</td>\n      <td>-0.0188</td>\n      <td>0.041</td>\n      <td>-1.012967</td>\n      <td>-0.100433</td>\n    </tr>\n    <tr>\n      <th>...</th>\n      <td>...</td>\n      <td>...</td>\n      <td>...</td>\n      <td>...</td>\n      <td>...</td>\n      <td>...</td>\n      <td>...</td>\n      <td>...</td>\n    </tr>\n    <tr>\n      <th>2022-10-31</th>\n      <td>MAA</td>\n      <td>0.024170</td>\n      <td>0.0783</td>\n      <td>0.0006</td>\n      <td>0.0801</td>\n      <td>0.023</td>\n      <td>0.001170</td>\n      <td>0.018190</td>\n    </tr>\n    <tr>\n      <th>2022-10-31</th>\n      <td>CME</td>\n      <td>-0.021622</td>\n      <td>0.0783</td>\n      <td>0.0006</td>\n      <td>0.0801</td>\n      <td>0.023</td>\n      <td>-0.044622</td>\n      <td>-0.010535</td>\n    </tr>\n    <tr>\n      <th>2022-10-31</th>\n      <td>EBAY</td>\n      <td>0.082314</td>\n      <td>0.0783</td>\n      <td>0.0006</td>\n      <td>0.0801</td>\n      <td>0.023</td>\n      <td>0.059314</td>\n      <td>0.117324</td>\n    </tr>\n    <tr>\n      <th>2022-10-31</th>\n      <td>V</td>\n      <td>0.166113</td>\n      <td>0.0783</td>\n      <td>0.0006</td>\n      <td>0.0801</td>\n      <td>0.023</td>\n      <td>0.143113</td>\n      <td>0.020841</td>\n    </tr>\n    <tr>\n      <th>2022-10-31</th>\n      <td>MU</td>\n      <td>0.082119</td>\n      <td>0.0783</td>\n      <td>0.0006</td>\n      <td>0.0801</td>\n      <td>0.023</td>\n      <td>0.059119</td>\n      <td>0.036619</td>\n    </tr>\n  </tbody>\n</table>\n<p>86113 rows × 8 columns</p>\n</div>"
     },
     "execution_count": 7,
     "metadata": {},
     "output_type": "execute_result"
    }
   ],
   "source": [
    "import pandas as pd\n",
    "data1 = pd.read_parquet('../data/sp500.parquet', engine='fastparquet')\n",
    "data2 = pd.read_parquet('../data/ff_factors.parquet', engine='fastparquet')\n",
    "merged = data1.merge(data2, on='Date', how='left')\n",
    "merged['Excess Return'] = merged['Monthly Returns'] - merged['RF']\n",
    "merged = merged.sort_index()\n",
    "merged['ex_ret_1'] = merged.groupby('Symbol')['Excess Return'].shift(-1)\n",
    "merged = merged.dropna(subset=['ex_ret_1'])\n",
    "merged = merged.dropna(subset=['HML'])\n",
    "merged"
   ]
  },
  {
   "cell_type": "markdown",
   "source": [
    "### Modell összeállítás (7 pont)\n",
    "\n",
    "A meglévő adatokból válaszd ki a __Amazon részvényhez tartozó sorokat (AMZN)__ és töröld a tickereket tartalmazó oszlopot.\n",
    " <u>Ebben a blokkban önellenőrzésre használhatod a legutóbbi zárthelyin írt osztályodat.</u>\n",
    "\n",
    "7., Készíts egy új __LinearRegressionNP__ elnevezésű osztályt. Definiáld benne a __\\_\\_init\\_\\___ nevű függvényt, amely bemenetként 2 DataFrame-t kap amelyeket ments le a left_hand_side és right_hand_side elnevezésű változókba. Az egyik DataFrame fogja tartalmazni a következő hónap többlet hozamait (__left_hand_side__), a másik a piaci hozamokat (Mkt-RF), az SMB és a HML értékeket (__right_hand_side__).\n",
    "\n",
    "8., Egésztsd ki az osztályt egy __fit__ metódussal, ami OLS elvű becslést hajt végre. Figyelj oda, hogy a regresszió futtatása során konstans (alfa / béta_0) is szerepeljen a predictor változók között. <u>__(numpy.linalg.lstsq() nem használható)__</u>\n",
    "\n",
    "9., Egészítsd ki az osztályt egy __get_params__ metódussal, ami visszaadja a becsült modell béta paramétereinek értékeit. A visszakapott pandas Series típusú adatban az oszlop neve legyen __Beta coefficients__. \n",
    "\n",
    "10., Egészítsd ki az osztályt egy __get_pvalues__ metódussal, ami visszaadja a becsült modell paraméterekhez tartozó p értékeket. A visszakapott pandas Series típusú adatban az oszlop neve legyen: __P-values for the corresponding coefficients__. A p értéket t-statisztika alapján számold ki. A p-érték kiszámításánál figyelj alkalmazd a <u>min(value, 1-value) * 2</u> képletet.\n",
    "\n",
    "11., Egészítsd ki az osztályt egy __get_wald_test_result__ metódussal, ami visszaadja a bemeneti restrikciós mátrix alapján számolt F és p értékeket. A visszatérési típus string legyen, a visszaadandó szöveg: __Wald: wald_value, p-value: p_value__, ahol az wald_value és p_value helyére 3 tizedesjegyre kerekítve (__:.3f__) add meg a hozzájuk tartozó értékeket. A függvény bemenete során feltételezzük, hogy r minden eleme 0, R-t listák listája formában adjuk át. A Wald statisztika p értékét az előző feladathoz hasonlóan számold ki, de figyelj, hogy a <u>teszt 1 oldalú</u>.\n",
    "\n",
    "12., Egészítse ki az osztályt egy __get_model_goodness_values__ metódussal, ami visszadja a centrált és a módosított R-négyzet értékeket. A visszatérési típus string legyen, a visszaadandó szöveg: __Centered R-squared: crs, Adjusted R-squared: ars__, ahol crs és ars helyére 3 tizedesjegyre kerekítve (__:.3f__) add meg a hozzájuk tartozó értékeket. <u>Ha a regresszorok számába eredetileg beleszámítottad a konstanst is, akkor a módosított R-négyzet számítás nevezőjében nincs szükség a __-1__-es tagra</u>."
   ],
   "metadata": {
    "collapsed": false
   },
   "id": "1888d0ef54d4b2c3"
  },
  {
   "cell_type": "code",
   "execution_count": null,
   "outputs": [],
   "source": [
    "merged = merged[merged['Symbol'] == 'AMZN']\n",
    "merged = merged.drop(columns=['Symbol'])"
   ],
   "metadata": {
    "collapsed": false
   },
   "id": "220975d29160a84e"
  },
  {
   "cell_type": "code",
   "execution_count": null,
   "outputs": [],
   "source": [],
   "metadata": {
    "collapsed": false
   },
   "id": "b9457f7880e8b7da"
  }
 ],
 "metadata": {
  "kernelspec": {
   "display_name": "Python 3 (ipykernel)",
   "language": "python",
   "name": "python3"
  },
  "language_info": {
   "codemirror_mode": {
    "name": "ipython",
    "version": 3
   },
   "file_extension": ".py",
   "mimetype": "text/x-python",
   "name": "python",
   "nbconvert_exporter": "python",
   "pygments_lexer": "ipython3",
   "version": "3.10.4"
  }
 },
 "nbformat": 4,
 "nbformat_minor": 5
}
