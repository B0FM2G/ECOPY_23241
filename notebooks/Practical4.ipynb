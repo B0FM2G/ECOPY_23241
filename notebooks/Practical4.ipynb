{
 "cells": [
  {
   "cell_type": "markdown",
   "source": [
    "### A heti notebook mellett erősen ajánlott a DataCamp témához kapcsolódó kurzusainak elvégzése. A héten nem töltök fel unit testet"
   ],
   "metadata": {
    "collapsed": false
   },
   "id": "7bf65558189787a8"
  },
  {
   "cell_type": "markdown",
   "source": [
    "#### A feladatok megoldásához a pandas, a  matplotlib és a typing package-k használhatók. Az ábrák esetében a README-ben is linkelt Axes object alapú megközelítést használd."
   ],
   "metadata": {
    "collapsed": false
   },
   "id": "670eb978efbc6f7"
  },
  {
   "cell_type": "code",
   "execution_count": 6,
   "outputs": [
    {
     "data": {
      "text/plain": "'\\nFONTOS: Az első feladat által visszaadott DataFrame-et kell használni a további feladatokhoz. A függvényeken belül mindig készíts egy másolatot a bemenő df-ről, (new_df = df.copy() és ezzel dolgozz tovább.)\\n'"
     },
     "execution_count": 6,
     "metadata": {},
     "output_type": "execute_result"
    }
   ],
   "source": [
    "import pandas as pd\n",
    "\n",
    "'''\n",
    "FONTOS: Az első feladat által visszaadott DataFrame-et kell használni a további feladatokhoz. A függvényeken belül mindig készíts egy másolatot a bemenő df-ről, (new_df = df.copy() és ezzel dolgozz tovább.)\n",
    "'''"
   ],
   "metadata": {
    "collapsed": false,
    "ExecuteTime": {
     "end_time": "2023-10-08T17:54:55.051262400Z",
     "start_time": "2023-10-08T17:54:52.571290500Z"
    }
   },
   "id": "initial_id"
  },
  {
   "cell_type": "code",
   "execution_count": null,
   "outputs": [],
   "source": [
    "'''\n",
    "1. Készíts egy függvényt ami a bemeneti dictionary-ből egy DataFrame-et ad vissza.\n",
    "\n",
    "függvény bemenete: test_dict\n",
    "Egy példa a kimenetre: test_df\n",
    "kimeneti típus: pandas.core.frame.DataFrame\n",
    "függvény neve: dict_to_dataframe\n",
    "'''"
   ],
   "metadata": {
    "collapsed": false
   },
   "id": "8bbcaf3fe36146ad"
  },
  {
   "cell_type": "code",
   "execution_count": 2,
   "outputs": [],
   "source": [
    "stats = {\"country\": [\"Brazil\", \"Russia\", \"India\", \"China\", \"South Africa\"],\n",
    "       \"capital\": [\"Brasilia\", \"Moscow\", \"New Dehli\", \"Beijing\", \"Pretoria\"],\n",
    "       \"area\": [8.516, 17.10, 3.286, 9.597, 1.221],\n",
    "       \"population\": [200.4, 143.5, 1252, 1357, 52.98] }"
   ],
   "metadata": {
    "collapsed": false,
    "ExecuteTime": {
     "end_time": "2023-10-08T17:54:43.914566600Z",
     "start_time": "2023-10-08T17:54:43.881220200Z"
    }
   },
   "id": "2c9ff116df8241e"
  },
  {
   "cell_type": "code",
   "execution_count": 28,
   "outputs": [],
   "source": [
    "def dict_to_dataframe(test_dict):\n",
    "       df = pd.DataFrame(test_dict)\n",
    "       return df"
   ],
   "metadata": {
    "collapsed": false,
    "ExecuteTime": {
     "end_time": "2023-10-08T18:54:16.687696400Z",
     "start_time": "2023-10-08T18:54:16.667606500Z"
    }
   },
   "id": "6b24ec77cdef3452"
  },
  {
   "cell_type": "code",
   "execution_count": 29,
   "outputs": [
    {
     "data": {
      "text/plain": "pandas.core.frame.DataFrame"
     },
     "execution_count": 29,
     "metadata": {},
     "output_type": "execute_result"
    }
   ],
   "source": [
    "data = dict_to_dataframe(stats)\n",
    "data"
   ],
   "metadata": {
    "collapsed": false,
    "ExecuteTime": {
     "end_time": "2023-10-08T18:55:15.480029300Z",
     "start_time": "2023-10-08T18:55:15.431209900Z"
    }
   },
   "id": "b4fbf54ded855d52"
  },
  {
   "cell_type": "code",
   "execution_count": null,
   "outputs": [],
   "source": [
    "'''\n",
    "2. Készíts egy függvényt ami a bemeneti DataFrame-ből vissza adja csak azt az oszlopot amelynek a neve a bemeneti string-el megegyező.\n",
    "\n",
    "függvény bemenete: test_df, column_name\n",
    "Egy példa a kimenetre: test_df\n",
    "kimeneti típus: pandas.core.series.Series\n",
    "függvény neve: get_column\n",
    "'''"
   ],
   "metadata": {
    "collapsed": false
   },
   "id": "55ac5822b428021d"
  },
  {
   "cell_type": "code",
   "execution_count": 8,
   "outputs": [],
   "source": [
    "def get_column(test_df, column_name):\n",
    "       return test_df[column_name]"
   ],
   "metadata": {
    "collapsed": false,
    "ExecuteTime": {
     "end_time": "2023-10-08T17:55:02.340991400Z",
     "start_time": "2023-10-08T17:55:02.336933500Z"
    }
   },
   "id": "f96be991c8af5bd"
  },
  {
   "cell_type": "code",
   "execution_count": 10,
   "outputs": [
    {
     "data": {
      "text/plain": "0          Brazil\n1          Russia\n2           India\n3           China\n4    South Africa\nName: country, dtype: object"
     },
     "execution_count": 10,
     "metadata": {},
     "output_type": "execute_result"
    }
   ],
   "source": [
    "get_column(data, 'country')"
   ],
   "metadata": {
    "collapsed": false,
    "ExecuteTime": {
     "end_time": "2023-10-08T17:55:30.644153400Z",
     "start_time": "2023-10-08T17:55:30.613737400Z"
    }
   },
   "id": "15e5770f7ba4326e"
  },
  {
   "cell_type": "code",
   "execution_count": null,
   "outputs": [],
   "source": [
    "'''\n",
    "3. Készíts egy függvényt ami a bemeneti DataFrame-ből kiszámolja az országok népsűrűségét és eltárolja az eredményt egy új oszlopba ('density').\n",
    "(density = population / area)\n",
    "\n",
    "függvény bemenete: test_df\n",
    "Egy példa a kimenetre: test_df\n",
    "kimeneti típus: pandas.core.frame.DataFrame\n",
    "függvény neve: population_density\n",
    "'''"
   ],
   "metadata": {
    "collapsed": false
   },
   "id": "1ad00850da164791"
  },
  {
   "cell_type": "code",
   "execution_count": 11,
   "outputs": [],
   "source": [
    "def population_density(test_df):\n",
    "       test_df['density'] = test_df['population']/test_df['area']\n",
    "       return test_df"
   ],
   "metadata": {
    "collapsed": false,
    "ExecuteTime": {
     "end_time": "2023-10-08T17:59:58.083936Z",
     "start_time": "2023-10-08T17:59:58.063299300Z"
    }
   },
   "id": "b2c10780de7f2b22"
  },
  {
   "cell_type": "code",
   "execution_count": 12,
   "outputs": [
    {
     "data": {
      "text/plain": "        country    capital    area  population     density\n0        Brazil   Brasilia   8.516      200.40   23.532175\n1        Russia     Moscow  17.100      143.50    8.391813\n2         India  New Dehli   3.286     1252.00  381.010347\n3         China    Beijing   9.597     1357.00  141.398354\n4  South Africa   Pretoria   1.221       52.98   43.390663",
      "text/html": "<div>\n<style scoped>\n    .dataframe tbody tr th:only-of-type {\n        vertical-align: middle;\n    }\n\n    .dataframe tbody tr th {\n        vertical-align: top;\n    }\n\n    .dataframe thead th {\n        text-align: right;\n    }\n</style>\n<table border=\"1\" class=\"dataframe\">\n  <thead>\n    <tr style=\"text-align: right;\">\n      <th></th>\n      <th>country</th>\n      <th>capital</th>\n      <th>area</th>\n      <th>population</th>\n      <th>density</th>\n    </tr>\n  </thead>\n  <tbody>\n    <tr>\n      <th>0</th>\n      <td>Brazil</td>\n      <td>Brasilia</td>\n      <td>8.516</td>\n      <td>200.40</td>\n      <td>23.532175</td>\n    </tr>\n    <tr>\n      <th>1</th>\n      <td>Russia</td>\n      <td>Moscow</td>\n      <td>17.100</td>\n      <td>143.50</td>\n      <td>8.391813</td>\n    </tr>\n    <tr>\n      <th>2</th>\n      <td>India</td>\n      <td>New Dehli</td>\n      <td>3.286</td>\n      <td>1252.00</td>\n      <td>381.010347</td>\n    </tr>\n    <tr>\n      <th>3</th>\n      <td>China</td>\n      <td>Beijing</td>\n      <td>9.597</td>\n      <td>1357.00</td>\n      <td>141.398354</td>\n    </tr>\n    <tr>\n      <th>4</th>\n      <td>South Africa</td>\n      <td>Pretoria</td>\n      <td>1.221</td>\n      <td>52.98</td>\n      <td>43.390663</td>\n    </tr>\n  </tbody>\n</table>\n</div>"
     },
     "execution_count": 12,
     "metadata": {},
     "output_type": "execute_result"
    }
   ],
   "source": [
    "population_density(data)"
   ],
   "metadata": {
    "collapsed": false,
    "ExecuteTime": {
     "end_time": "2023-10-08T18:00:07.005218900Z",
     "start_time": "2023-10-08T18:00:06.964680Z"
    }
   },
   "id": "519ed442fa76f366"
  },
  {
   "cell_type": "code",
   "execution_count": null,
   "outputs": [],
   "source": [
    "'''\n",
    "4. Készíts egy függvényt, ami a bemeneti Dataframe adatai alapján elkészít egy olyan oszlopdiagramot (bar plot),\n",
    "ami vizualizálja az országok népességét.\n",
    "\n",
    "Az oszlopdiagram címe legyen: 'Population of Countries'\n",
    "Az x tengely címe legyen: 'Country'\n",
    "Az y tengely címe legyen: 'Population (millions)'\n",
    "\n",
    "függvény bemenete: test_df\n",
    "Egy példa a kimenetre: fig\n",
    "kimeneti típus: matplotlib.figure.Figure\n",
    "függvény neve: plot_population\n",
    "'''"
   ],
   "metadata": {
    "collapsed": false
   },
   "id": "55a9b572929dfe2a"
  },
  {
   "cell_type": "code",
   "execution_count": 30,
   "outputs": [],
   "source": [
    "import matplotlib.pyplot as plt\n",
    "def plot_population(test_df):\n",
    "       fig, ax = plt.subplots()\n",
    "       ax.bar(test_df['country'],test_df['population'])\n",
    "       ax.set_title('Population of Countries')\n",
    "       ax.set_xlabel('Country')\n",
    "       ax.set_ylabel('Population (millions)')\n",
    "       return fig"
   ],
   "metadata": {
    "collapsed": false,
    "ExecuteTime": {
     "end_time": "2023-10-08T18:58:57.022524500Z",
     "start_time": "2023-10-08T18:58:57.011046100Z"
    }
   },
   "id": "2521a8aa5627a5c8"
  },
  {
   "cell_type": "code",
   "execution_count": 23,
   "outputs": [
    {
     "data": {
      "text/plain": "<Figure size 640x480 with 1 Axes>",
      "image/png": "[encoded data removed]"
     },
     "metadata": {},
     "output_type": "display_data"
    }
   ],
   "source": [
    "plot_population(data)"
   ],
   "metadata": {
    "collapsed": false,
    "ExecuteTime": {
     "end_time": "2023-10-08T18:30:27.733581100Z",
     "start_time": "2023-10-08T18:30:27.403924100Z"
    }
   },
   "id": "3bcf5f7dc58f0666"
  },
  {
   "cell_type": "code",
   "execution_count": null,
   "outputs": [],
   "source": [
    "'''\n",
    "5. Készíts egy függvényt, ami a bemeneti Dataframe adatai alapján elkészít egy olyan kördiagramot,\n",
    "ami vizualizálja az országok területét. Minden körcikknek legyen egy címe, ami az ország neve.\n",
    "\n",
    "Az kördiagram címe legyen: 'Area of Countries'\n",
    "\n",
    "függvény bemenete: test_df\n",
    "Egy példa a kimenetre: fig\n",
    "kimeneti típus: matplotlib.figure.Figure\n",
    "függvény neve: plot_area\n",
    "'''"
   ],
   "metadata": {
    "collapsed": false
   },
   "id": "51df14eeb5a59447"
  },
  {
   "cell_type": "code",
   "execution_count": 33,
   "outputs": [],
   "source": [
    "def plot_area(test_df):\n",
    "       fig, ax = plt.subplots()\n",
    "       ax.pie(test_df['area'], labels=test_df['country'])\n",
    "       ax.set_title('Area of Countries')\n",
    "       return fig"
   ],
   "metadata": {
    "collapsed": false,
    "ExecuteTime": {
     "end_time": "2023-10-08T19:02:40.166716200Z",
     "start_time": "2023-10-08T19:02:40.131074800Z"
    }
   },
   "id": "8b699e1cbddcf606"
  },
  {
   "cell_type": "code",
   "execution_count": 34,
   "outputs": [
    {
     "data": {
      "text/plain": "<Figure size 640x480 with 1 Axes>",
      "image/png": "[encoded data removed]"
     },
     "metadata": {},
     "output_type": "display_data"
    }
   ],
   "source": [
    "plot_area(data)"
   ],
   "metadata": {
    "collapsed": false,
    "ExecuteTime": {
     "end_time": "2023-10-08T19:02:43.604268500Z",
     "start_time": "2023-10-08T19:02:43.520892700Z"
    }
   },
   "id": "5dfb5cd9be31a9fd"
  },
  {
   "cell_type": "markdown",
   "source": [
    "Az ezt követő feladatokhoz az adatot (StudentsPerformance) a data mappában találod"
   ],
   "metadata": {
    "collapsed": false
   },
   "id": "9bb68abad1319c47"
  },
  {
   "cell_type": "code",
   "execution_count": null,
   "outputs": [],
   "source": [
    "'''\n",
    "FONTOS: Az első feladatáltal visszaadott DataFrame-et kell használni a további feladatokhoz. A függvényeken belül mindig készíts egy másolatot a bemenő df-ről, (new_df = df.copy() és ezzel dolgozz tovább.)\n",
    "'''"
   ],
   "metadata": {
    "collapsed": false
   },
   "id": "8f14d78ec59ec2c"
  },
  {
   "cell_type": "code",
   "execution_count": null,
   "outputs": [],
   "source": [
    "'''\n",
    "1., Készíts egy függvényt, ami egy string útvonalat vár paraméterként, és egy DataFrame ad visszatérési értékként.\n",
    "\n",
    "függvény bemente: input_csv\n",
    "Egy példa a kimenetre: df_data\n",
    "kimeneti típus: pandas.core.frame.DataFrame\n",
    "függvény neve: csv_to_df\n",
    "'''"
   ],
   "metadata": {
    "collapsed": false
   },
   "id": "65cd23e63070e453"
  },
  {
   "cell_type": "code",
   "execution_count": 35,
   "outputs": [],
   "source": [
    "def csv_to_df(input_csv):\n",
    "       df_data = pd.read_csv(input_csv)\n",
    "       return df_data"
   ],
   "metadata": {
    "collapsed": false,
    "ExecuteTime": {
     "end_time": "2023-10-08T19:05:03.698939500Z",
     "start_time": "2023-10-08T19:05:03.665095700Z"
    }
   },
   "id": "1d04a181edfa53f4"
  },
  {
   "cell_type": "code",
   "execution_count": 42,
   "outputs": [],
   "source": [
    "df_data = csv_to_df('../data/StudentsPerformance.csv')"
   ],
   "metadata": {
    "collapsed": false,
    "ExecuteTime": {
     "end_time": "2023-10-08T19:09:23.034801500Z",
     "start_time": "2023-10-08T19:09:22.999616200Z"
    }
   },
   "id": "cc1d6a28e0a9447f"
  },
  {
   "cell_type": "code",
   "execution_count": null,
   "outputs": [],
   "source": [
    "'''\n",
    "2., Készíts egy függvényt, ami egy DataFrame-et vár paraméterként,\n",
    "és átalakítja azoknak az oszlopoknak a nevét nagybetűsre amelyiknek neve nem tartalmaz 'e' betüt.\n",
    "\n",
    "függvény bemente: input_df\n",
    "Egy példa a kimenetre: df_data_capitalized\n",
    "kimeneti típus: pandas.core.frame.DataFrame\n",
    "függvény neve: capitalize_columns\n",
    "'''"
   ],
   "metadata": {
    "collapsed": false
   },
   "id": "50bad24fd8a4e367"
  },
  {
   "cell_type": "code",
   "execution_count": 67,
   "outputs": [],
   "source": [
    "new_df = df_data.copy()\n",
    "def capitalize_columns(input_df):\n",
    "       columns = list(input_df.columns)\n",
    "       for index,i in enumerate(columns):\n",
    "              if 'e' in i:\n",
    "                    columns[index]=i.capitalize()\n",
    "       input_df.columns = columns\n",
    "       return input_df                   "
   ],
   "metadata": {
    "collapsed": false,
    "ExecuteTime": {
     "end_time": "2023-10-08T19:23:59.841990400Z",
     "start_time": "2023-10-08T19:23:59.804595400Z"
    }
   },
   "id": "80755498f856534d"
  },
  {
   "cell_type": "code",
   "execution_count": 68,
   "outputs": [
    {
     "data": {
      "text/plain": "     Gender Race/ethnicity Parental level of education         lunch  \\\n0    female        group B           bachelor's degree      standard   \n1    female        group C                some college      standard   \n2    female        group B             master's degree      standard   \n3      male        group A          associate's degree  free/reduced   \n4      male        group C                some college      standard   \n..      ...            ...                         ...           ...   \n995  female        group E             master's degree      standard   \n996    male        group C                 high school  free/reduced   \n997  female        group C                 high school  free/reduced   \n998  female        group D                some college      standard   \n999  female        group D                some college  free/reduced   \n\n    Test preparation course  Math score  Reading score  Writing score  \n0                      none          72             72             74  \n1                 completed          69             90             88  \n2                      none          90             95             93  \n3                      none          47             57             44  \n4                      none          76             78             75  \n..                      ...         ...            ...            ...  \n995               completed          88             99             95  \n996                    none          62             55             55  \n997               completed          59             71             65  \n998               completed          68             78             77  \n999                    none          77             86             86  \n\n[1000 rows x 8 columns]",
      "text/html": "<div>\n<style scoped>\n    .dataframe tbody tr th:only-of-type {\n        vertical-align: middle;\n    }\n\n    .dataframe tbody tr th {\n        vertical-align: top;\n    }\n\n    .dataframe thead th {\n        text-align: right;\n    }\n</style>\n<table border=\"1\" class=\"dataframe\">\n  <thead>\n    <tr style=\"text-align: right;\">\n      <th></th>\n      <th>Gender</th>\n      <th>Race/ethnicity</th>\n      <th>Parental level of education</th>\n      <th>lunch</th>\n      <th>Test preparation course</th>\n      <th>Math score</th>\n      <th>Reading score</th>\n      <th>Writing score</th>\n    </tr>\n  </thead>\n  <tbody>\n    <tr>\n      <th>0</th>\n      <td>female</td>\n      <td>group B</td>\n      <td>bachelor's degree</td>\n      <td>standard</td>\n      <td>none</td>\n      <td>72</td>\n      <td>72</td>\n      <td>74</td>\n    </tr>\n    <tr>\n      <th>1</th>\n      <td>female</td>\n      <td>group C</td>\n      <td>some college</td>\n      <td>standard</td>\n      <td>completed</td>\n      <td>69</td>\n      <td>90</td>\n      <td>88</td>\n    </tr>\n    <tr>\n      <th>2</th>\n      <td>female</td>\n      <td>group B</td>\n      <td>master's degree</td>\n      <td>standard</td>\n      <td>none</td>\n      <td>90</td>\n      <td>95</td>\n      <td>93</td>\n    </tr>\n    <tr>\n      <th>3</th>\n      <td>male</td>\n      <td>group A</td>\n      <td>associate's degree</td>\n      <td>free/reduced</td>\n      <td>none</td>\n      <td>47</td>\n      <td>57</td>\n      <td>44</td>\n    </tr>\n    <tr>\n      <th>4</th>\n      <td>male</td>\n      <td>group C</td>\n      <td>some college</td>\n      <td>standard</td>\n      <td>none</td>\n      <td>76</td>\n      <td>78</td>\n      <td>75</td>\n    </tr>\n    <tr>\n      <th>...</th>\n      <td>...</td>\n      <td>...</td>\n      <td>...</td>\n      <td>...</td>\n      <td>...</td>\n      <td>...</td>\n      <td>...</td>\n      <td>...</td>\n    </tr>\n    <tr>\n      <th>995</th>\n      <td>female</td>\n      <td>group E</td>\n      <td>master's degree</td>\n      <td>standard</td>\n      <td>completed</td>\n      <td>88</td>\n      <td>99</td>\n      <td>95</td>\n    </tr>\n    <tr>\n      <th>996</th>\n      <td>male</td>\n      <td>group C</td>\n      <td>high school</td>\n      <td>free/reduced</td>\n      <td>none</td>\n      <td>62</td>\n      <td>55</td>\n      <td>55</td>\n    </tr>\n    <tr>\n      <th>997</th>\n      <td>female</td>\n      <td>group C</td>\n      <td>high school</td>\n      <td>free/reduced</td>\n      <td>completed</td>\n      <td>59</td>\n      <td>71</td>\n      <td>65</td>\n    </tr>\n    <tr>\n      <th>998</th>\n      <td>female</td>\n      <td>group D</td>\n      <td>some college</td>\n      <td>standard</td>\n      <td>completed</td>\n      <td>68</td>\n      <td>78</td>\n      <td>77</td>\n    </tr>\n    <tr>\n      <th>999</th>\n      <td>female</td>\n      <td>group D</td>\n      <td>some college</td>\n      <td>free/reduced</td>\n      <td>none</td>\n      <td>77</td>\n      <td>86</td>\n      <td>86</td>\n    </tr>\n  </tbody>\n</table>\n<p>1000 rows × 8 columns</p>\n</div>"
     },
     "execution_count": 68,
     "metadata": {},
     "output_type": "execute_result"
    }
   ],
   "source": [
    "capitalize_columns(new_df)"
   ],
   "metadata": {
    "collapsed": false,
    "ExecuteTime": {
     "end_time": "2023-10-08T19:24:01.497609800Z",
     "start_time": "2023-10-08T19:24:01.480955800Z"
    }
   },
   "id": "3c46e3abf7c30d1a"
  },
  {
   "cell_type": "code",
   "execution_count": null,
   "outputs": [],
   "source": [
    "'''\n",
    "3., Készíts egy függvényt, ahol egy szám formájában vissza adjuk, hogy hány darab diáknak sikerült teljesíteni a matek vizsgát.\n",
    "(legyen az átmenő ponthatár 50).\n",
    "\n",
    "függvény bemente: input_df\n",
    "Egy példa a kimenetre: 5\n",
    "kimeneti típus: int\n",
    "függvény neve: math_passed_count\n",
    "'''"
   ],
   "metadata": {
    "collapsed": false
   },
   "id": "2fb19f87d648ce3e"
  },
  {
   "cell_type": "code",
   "execution_count": 93,
   "outputs": [],
   "source": [
    "new_df = df_data.copy()\n",
    "def math_passed_count(input_df):\n",
    "       sikeres = input_df['math score'][input_df['math score']>50].count()\n",
    "       sikeres2 = input_df['math score'].gt(50).sum(axis=0)\n",
    "       return sikeres, sikeres2"
   ],
   "metadata": {
    "collapsed": false,
    "ExecuteTime": {
     "end_time": "2023-10-08T19:42:43.031121400Z",
     "start_time": "2023-10-08T19:42:42.992440500Z"
    }
   },
   "id": "6bc99c2dcf0133df"
  },
  {
   "cell_type": "code",
   "execution_count": 94,
   "outputs": [
    {
     "data": {
      "text/plain": "(850, 1000)"
     },
     "execution_count": 94,
     "metadata": {},
     "output_type": "execute_result"
    }
   ],
   "source": [
    "math_passed_count(new_df)"
   ],
   "metadata": {
    "collapsed": false,
    "ExecuteTime": {
     "end_time": "2023-10-08T19:42:44.641652300Z",
     "start_time": "2023-10-08T19:42:44.632699700Z"
    }
   },
   "id": "3275702a8d4db56d"
  },
  {
   "cell_type": "code",
   "execution_count": null,
   "outputs": [],
   "source": [
    "'''\n",
    "4., Készíts egy függvényt, ahol Dataframe ként vissza adjuk azoknak a diákoknak az adatait (sorokat), akik végeztek előzetes gyakorló kurzust.\n",
    "\n",
    "függvény bemente: input_df\n",
    "Egy példa a kimenetre: df_did_pre_course\n",
    "kimeneti típus: pandas.core.frame.DataFrame\n",
    "függvény neve: did_pre_course\n",
    "'''"
   ],
   "metadata": {
    "collapsed": false
   },
   "id": "700e17cde1e8c093"
  },
  {
   "cell_type": "code",
   "execution_count": 98,
   "outputs": [],
   "source": [
    "new_df = df_data.copy()\n",
    "def did_pre_course(input_df):\n",
    "       return input_df[input_df['test preparation course']=='completed']"
   ],
   "metadata": {
    "collapsed": false,
    "ExecuteTime": {
     "end_time": "2023-10-08T19:45:20.992329800Z",
     "start_time": "2023-10-08T19:45:20.973236800Z"
    }
   },
   "id": "eead7c083358de29"
  },
  {
   "cell_type": "code",
   "execution_count": 99,
   "outputs": [
    {
     "data": {
      "text/plain": "     gender race/ethnicity parental level of education         lunch  \\\n1    female        group C                some college      standard   \n6    female        group B                some college      standard   \n8      male        group D                 high school  free/reduced   \n13     male        group A                some college      standard   \n18     male        group C             master's degree  free/reduced   \n..      ...            ...                         ...           ...   \n990    male        group E                 high school  free/reduced   \n991  female        group B            some high school      standard   \n995  female        group E             master's degree      standard   \n997  female        group C                 high school  free/reduced   \n998  female        group D                some college      standard   \n\n    test preparation course  math score  reading score  writing score  \n1                 completed          69             90             88  \n6                 completed          88             95             92  \n8                 completed          64             64             67  \n13                completed          78             72             70  \n18                completed          46             42             46  \n..                      ...         ...            ...            ...  \n990               completed          86             81             75  \n991               completed          65             82             78  \n995               completed          88             99             95  \n997               completed          59             71             65  \n998               completed          68             78             77  \n\n[358 rows x 8 columns]",
      "text/html": "<div>\n<style scoped>\n    .dataframe tbody tr th:only-of-type {\n        vertical-align: middle;\n    }\n\n    .dataframe tbody tr th {\n        vertical-align: top;\n    }\n\n    .dataframe thead th {\n        text-align: right;\n    }\n</style>\n<table border=\"1\" class=\"dataframe\">\n  <thead>\n    <tr style=\"text-align: right;\">\n      <th></th>\n      <th>gender</th>\n      <th>race/ethnicity</th>\n      <th>parental level of education</th>\n      <th>lunch</th>\n      <th>test preparation course</th>\n      <th>math score</th>\n      <th>reading score</th>\n      <th>writing score</th>\n    </tr>\n  </thead>\n  <tbody>\n    <tr>\n      <th>1</th>\n      <td>female</td>\n      <td>group C</td>\n      <td>some college</td>\n      <td>standard</td>\n      <td>completed</td>\n      <td>69</td>\n      <td>90</td>\n      <td>88</td>\n    </tr>\n    <tr>\n      <th>6</th>\n      <td>female</td>\n      <td>group B</td>\n      <td>some college</td>\n      <td>standard</td>\n      <td>completed</td>\n      <td>88</td>\n      <td>95</td>\n      <td>92</td>\n    </tr>\n    <tr>\n      <th>8</th>\n      <td>male</td>\n      <td>group D</td>\n      <td>high school</td>\n      <td>free/reduced</td>\n      <td>completed</td>\n      <td>64</td>\n      <td>64</td>\n      <td>67</td>\n    </tr>\n    <tr>\n      <th>13</th>\n      <td>male</td>\n      <td>group A</td>\n      <td>some college</td>\n      <td>standard</td>\n      <td>completed</td>\n      <td>78</td>\n      <td>72</td>\n      <td>70</td>\n    </tr>\n    <tr>\n      <th>18</th>\n      <td>male</td>\n      <td>group C</td>\n      <td>master's degree</td>\n      <td>free/reduced</td>\n      <td>completed</td>\n      <td>46</td>\n      <td>42</td>\n      <td>46</td>\n    </tr>\n    <tr>\n      <th>...</th>\n      <td>...</td>\n      <td>...</td>\n      <td>...</td>\n      <td>...</td>\n      <td>...</td>\n      <td>...</td>\n      <td>...</td>\n      <td>...</td>\n    </tr>\n    <tr>\n      <th>990</th>\n      <td>male</td>\n      <td>group E</td>\n      <td>high school</td>\n      <td>free/reduced</td>\n      <td>completed</td>\n      <td>86</td>\n      <td>81</td>\n      <td>75</td>\n    </tr>\n    <tr>\n      <th>991</th>\n      <td>female</td>\n      <td>group B</td>\n      <td>some high school</td>\n      <td>standard</td>\n      <td>completed</td>\n      <td>65</td>\n      <td>82</td>\n      <td>78</td>\n    </tr>\n    <tr>\n      <th>995</th>\n      <td>female</td>\n      <td>group E</td>\n      <td>master's degree</td>\n      <td>standard</td>\n      <td>completed</td>\n      <td>88</td>\n      <td>99</td>\n      <td>95</td>\n    </tr>\n    <tr>\n      <th>997</th>\n      <td>female</td>\n      <td>group C</td>\n      <td>high school</td>\n      <td>free/reduced</td>\n      <td>completed</td>\n      <td>59</td>\n      <td>71</td>\n      <td>65</td>\n    </tr>\n    <tr>\n      <th>998</th>\n      <td>female</td>\n      <td>group D</td>\n      <td>some college</td>\n      <td>standard</td>\n      <td>completed</td>\n      <td>68</td>\n      <td>78</td>\n      <td>77</td>\n    </tr>\n  </tbody>\n</table>\n<p>358 rows × 8 columns</p>\n</div>"
     },
     "execution_count": 99,
     "metadata": {},
     "output_type": "execute_result"
    }
   ],
   "source": [
    "did_pre_course(new_df)"
   ],
   "metadata": {
    "collapsed": false,
    "ExecuteTime": {
     "end_time": "2023-10-08T19:45:22.717116700Z",
     "start_time": "2023-10-08T19:45:22.701024300Z"
    }
   },
   "id": "fa6e66b2cac284c5"
  },
  {
   "cell_type": "code",
   "execution_count": null,
   "outputs": [],
   "source": [
    "'''\n",
    "5., Készíts egy függvényt, ahol a bemeneti Dataframet a diákok szülei végzettségi szintjei alapján csoportosításra kerül,\n",
    "majd aggregációként vegyük, hogy átlagosan milyen pontszámot értek el a diákok a vizsgákon.\n",
    "\n",
    "függvény bemente: input_df\n",
    "Egy példa a kimenetre: df_average_scores\n",
    "kimeneti típus: pandas.core.frame.DataFrame\n",
    "függvény neve: average_scores\n",
    "'''"
   ],
   "metadata": {
    "collapsed": false
   },
   "id": "eb06e00175bdff7a"
  },
  {
   "cell_type": "code",
   "execution_count": 100,
   "outputs": [],
   "source": [
    "new_df = df_data.copy()\n",
    "def average_scores(input_df):\n",
    "       return input_df.groupby('parental level of education')[['math score', 'reading score', 'writing score']].mean()"
   ],
   "metadata": {
    "collapsed": false,
    "ExecuteTime": {
     "end_time": "2023-10-08T19:49:18.421195600Z",
     "start_time": "2023-10-08T19:49:18.388711900Z"
    }
   },
   "id": "3bc525fde8e39ee3"
  },
  {
   "cell_type": "code",
   "execution_count": 101,
   "outputs": [
    {
     "data": {
      "text/plain": "                             math score  reading score  writing score\nparental level of education                                          \nassociate's degree            67.882883      70.927928      69.896396\nbachelor's degree             69.389831      73.000000      73.381356\nhigh school                   62.137755      64.704082      62.448980\nmaster's degree               69.745763      75.372881      75.677966\nsome college                  67.128319      69.460177      68.840708\nsome high school              63.497207      66.938547      64.888268",
      "text/html": "<div>\n<style scoped>\n    .dataframe tbody tr th:only-of-type {\n        vertical-align: middle;\n    }\n\n    .dataframe tbody tr th {\n        vertical-align: top;\n    }\n\n    .dataframe thead th {\n        text-align: right;\n    }\n</style>\n<table border=\"1\" class=\"dataframe\">\n  <thead>\n    <tr style=\"text-align: right;\">\n      <th></th>\n      <th>math score</th>\n      <th>reading score</th>\n      <th>writing score</th>\n    </tr>\n    <tr>\n      <th>parental level of education</th>\n      <th></th>\n      <th></th>\n      <th></th>\n    </tr>\n  </thead>\n  <tbody>\n    <tr>\n      <th>associate's degree</th>\n      <td>67.882883</td>\n      <td>70.927928</td>\n      <td>69.896396</td>\n    </tr>\n    <tr>\n      <th>bachelor's degree</th>\n      <td>69.389831</td>\n      <td>73.000000</td>\n      <td>73.381356</td>\n    </tr>\n    <tr>\n      <th>high school</th>\n      <td>62.137755</td>\n      <td>64.704082</td>\n      <td>62.448980</td>\n    </tr>\n    <tr>\n      <th>master's degree</th>\n      <td>69.745763</td>\n      <td>75.372881</td>\n      <td>75.677966</td>\n    </tr>\n    <tr>\n      <th>some college</th>\n      <td>67.128319</td>\n      <td>69.460177</td>\n      <td>68.840708</td>\n    </tr>\n    <tr>\n      <th>some high school</th>\n      <td>63.497207</td>\n      <td>66.938547</td>\n      <td>64.888268</td>\n    </tr>\n  </tbody>\n</table>\n</div>"
     },
     "execution_count": 101,
     "metadata": {},
     "output_type": "execute_result"
    }
   ],
   "source": [
    "average_scores(new_df)"
   ],
   "metadata": {
    "collapsed": false,
    "ExecuteTime": {
     "end_time": "2023-10-08T19:49:25.861700900Z",
     "start_time": "2023-10-08T19:49:25.816985Z"
    }
   },
   "id": "5a790dec06faeb3d"
  },
  {
   "cell_type": "code",
   "execution_count": null,
   "outputs": [],
   "source": [
    "'''\n",
    "6., Készíts egy függvényt, ami a bementeti Dataframet kiegészíti egy 'age' oszloppal, töltsük fel random 18-66 év közötti értékekkel.\n",
    "A random.randint() függvényt használd, a random sorsolás legyen seedleve, ennek értéke legyen 42.\n",
    "\n",
    "függvény bemente: input_df\n",
    "Egy példa a kimenetre: df_data_with_age\n",
    "kimeneti típus: pandas.core.frame.DataFrame\n",
    "függvény neve: add_age\n",
    "'''"
   ],
   "metadata": {
    "collapsed": false
   },
   "id": "63cf6881d83388a5"
  },
  {
   "cell_type": "code",
   "execution_count": 109,
   "outputs": [],
   "source": [
    "import random\n",
    "new_df = df_data.copy()\n",
    "random.seed(42)\n",
    "def add_age(input_df):\n",
    "       ages = [random.randint(18, 66) for _ in range(len(input_df))]\n",
    "       input_df['age'] = ages\n",
    "       return input_df"
   ],
   "metadata": {
    "collapsed": false,
    "ExecuteTime": {
     "end_time": "2023-10-08T19:56:45.634677300Z",
     "start_time": "2023-10-08T19:56:45.586069800Z"
    }
   },
   "id": "ca6c5548fce90040"
  },
  {
   "cell_type": "code",
   "execution_count": 110,
   "outputs": [
    {
     "data": {
      "text/plain": "     gender race/ethnicity parental level of education         lunch  \\\n0    female        group B           bachelor's degree      standard   \n1    female        group C                some college      standard   \n2    female        group B             master's degree      standard   \n3      male        group A          associate's degree  free/reduced   \n4      male        group C                some college      standard   \n..      ...            ...                         ...           ...   \n995  female        group E             master's degree      standard   \n996    male        group C                 high school  free/reduced   \n997  female        group C                 high school  free/reduced   \n998  female        group D                some college      standard   \n999  female        group D                some college  free/reduced   \n\n    test preparation course  math score  reading score  writing score  age  \n0                      none          72             72             74   58  \n1                 completed          69             90             88   25  \n2                      none          90             95             93   19  \n3                      none          47             57             44   65  \n4                      none          76             78             75   35  \n..                      ...         ...            ...            ...  ...  \n995               completed          88             99             95   49  \n996                    none          62             55             55   24  \n997               completed          59             71             65   18  \n998               completed          68             78             77   54  \n999                    none          77             86             86   36  \n\n[1000 rows x 9 columns]",
      "text/html": "<div>\n<style scoped>\n    .dataframe tbody tr th:only-of-type {\n        vertical-align: middle;\n    }\n\n    .dataframe tbody tr th {\n        vertical-align: top;\n    }\n\n    .dataframe thead th {\n        text-align: right;\n    }\n</style>\n<table border=\"1\" class=\"dataframe\">\n  <thead>\n    <tr style=\"text-align: right;\">\n      <th></th>\n      <th>gender</th>\n      <th>race/ethnicity</th>\n      <th>parental level of education</th>\n      <th>lunch</th>\n      <th>test preparation course</th>\n      <th>math score</th>\n      <th>reading score</th>\n      <th>writing score</th>\n      <th>age</th>\n    </tr>\n  </thead>\n  <tbody>\n    <tr>\n      <th>0</th>\n      <td>female</td>\n      <td>group B</td>\n      <td>bachelor's degree</td>\n      <td>standard</td>\n      <td>none</td>\n      <td>72</td>\n      <td>72</td>\n      <td>74</td>\n      <td>58</td>\n    </tr>\n    <tr>\n      <th>1</th>\n      <td>female</td>\n      <td>group C</td>\n      <td>some college</td>\n      <td>standard</td>\n      <td>completed</td>\n      <td>69</td>\n      <td>90</td>\n      <td>88</td>\n      <td>25</td>\n    </tr>\n    <tr>\n      <th>2</th>\n      <td>female</td>\n      <td>group B</td>\n      <td>master's degree</td>\n      <td>standard</td>\n      <td>none</td>\n      <td>90</td>\n      <td>95</td>\n      <td>93</td>\n      <td>19</td>\n    </tr>\n    <tr>\n      <th>3</th>\n      <td>male</td>\n      <td>group A</td>\n      <td>associate's degree</td>\n      <td>free/reduced</td>\n      <td>none</td>\n      <td>47</td>\n      <td>57</td>\n      <td>44</td>\n      <td>65</td>\n    </tr>\n    <tr>\n      <th>4</th>\n      <td>male</td>\n      <td>group C</td>\n      <td>some college</td>\n      <td>standard</td>\n      <td>none</td>\n      <td>76</td>\n      <td>78</td>\n      <td>75</td>\n      <td>35</td>\n    </tr>\n    <tr>\n      <th>...</th>\n      <td>...</td>\n      <td>...</td>\n      <td>...</td>\n      <td>...</td>\n      <td>...</td>\n      <td>...</td>\n      <td>...</td>\n      <td>...</td>\n      <td>...</td>\n    </tr>\n    <tr>\n      <th>995</th>\n      <td>female</td>\n      <td>group E</td>\n      <td>master's degree</td>\n      <td>standard</td>\n      <td>completed</td>\n      <td>88</td>\n      <td>99</td>\n      <td>95</td>\n      <td>49</td>\n    </tr>\n    <tr>\n      <th>996</th>\n      <td>male</td>\n      <td>group C</td>\n      <td>high school</td>\n      <td>free/reduced</td>\n      <td>none</td>\n      <td>62</td>\n      <td>55</td>\n      <td>55</td>\n      <td>24</td>\n    </tr>\n    <tr>\n      <th>997</th>\n      <td>female</td>\n      <td>group C</td>\n      <td>high school</td>\n      <td>free/reduced</td>\n      <td>completed</td>\n      <td>59</td>\n      <td>71</td>\n      <td>65</td>\n      <td>18</td>\n    </tr>\n    <tr>\n      <th>998</th>\n      <td>female</td>\n      <td>group D</td>\n      <td>some college</td>\n      <td>standard</td>\n      <td>completed</td>\n      <td>68</td>\n      <td>78</td>\n      <td>77</td>\n      <td>54</td>\n    </tr>\n    <tr>\n      <th>999</th>\n      <td>female</td>\n      <td>group D</td>\n      <td>some college</td>\n      <td>free/reduced</td>\n      <td>none</td>\n      <td>77</td>\n      <td>86</td>\n      <td>86</td>\n      <td>36</td>\n    </tr>\n  </tbody>\n</table>\n<p>1000 rows × 9 columns</p>\n</div>"
     },
     "execution_count": 110,
     "metadata": {},
     "output_type": "execute_result"
    }
   ],
   "source": [
    "add_age(new_df)"
   ],
   "metadata": {
    "collapsed": false,
    "ExecuteTime": {
     "end_time": "2023-10-08T19:56:47.699567700Z",
     "start_time": "2023-10-08T19:56:47.682659100Z"
    }
   },
   "id": "3f13fdd8794f5684"
  },
  {
   "cell_type": "code",
   "execution_count": null,
   "outputs": [],
   "source": [
    "'''\n",
    "7., Készíts egy függvényt, ami vissza adja a legjobb teljesítményt elérő női diák pontszámait.\n",
    "\n",
    "függvény bemente: input_df\n",
    "Egy példa a kimenetre: (99,99,99) #math score, reading score, writing score\n",
    "kimeneti típus: tuple\n",
    "függvény neve: female_top_score\n",
    "'''"
   ],
   "metadata": {
    "collapsed": false
   },
   "id": "8abd8545dbbc5dc3"
  },
  {
   "cell_type": "code",
   "execution_count": 141,
   "outputs": [],
   "source": [
    "new_df = df_data.copy()\n",
    "def female_top_score(input_df):\n",
    "       input_df['osszes'] = input_df['math score'] + input_df['reading score'] + input_df['writing score']\n",
    "       sor = input_df[input_df[\"gender\"]=='female'].sort_values(\"osszes\", ascending=False).iloc[0]\n",
    "       return sor['math score'], sor['reading score'], sor['writing score']"
   ],
   "metadata": {
    "collapsed": false,
    "ExecuteTime": {
     "end_time": "2023-10-08T20:12:33.937522300Z",
     "start_time": "2023-10-08T20:12:33.887906700Z"
    }
   },
   "id": "32366b29ea96040c"
  },
  {
   "cell_type": "code",
   "execution_count": 142,
   "outputs": [
    {
     "data": {
      "text/plain": "(100, 100, 100)"
     },
     "execution_count": 142,
     "metadata": {},
     "output_type": "execute_result"
    }
   ],
   "source": [
    "female_top_score(new_df)"
   ],
   "metadata": {
    "collapsed": false,
    "ExecuteTime": {
     "end_time": "2023-10-08T20:12:35.403728300Z",
     "start_time": "2023-10-08T20:12:35.390680500Z"
    }
   },
   "id": "adeedc12cc90bf5a"
  },
  {
   "cell_type": "code",
   "execution_count": null,
   "outputs": [],
   "source": [
    "'''\n",
    "8., Készíts egy függvényt, ami a bemeneti Dataframet kiegészíti egy 'grade' oszloppal. Számoljuk ki hogy a diákok hány százalékot ((math+reading+writing)/300) értek el a vizsgán, és osztályozzuk őket az alábbi szempontok szerint:\n",
    "\n",
    "90-100%: 5\n",
    "80-90%: 4\n",
    "66-80%: 3\n",
    "50-65%: 2\n",
    "<50%: 1\n",
    "\n",
    "függvény bemente: input_df\n",
    "Egy példa a kimenetre: df_data_with_grade\n",
    "kimeneti típus: pandas.core.frame.DataFrame\n",
    "függvény neve: add_grade\n",
    "'''"
   ],
   "metadata": {
    "collapsed": false
   },
   "id": "3ced4ddf7eaf869b"
  },
  {
   "cell_type": "code",
   "execution_count": 155,
   "outputs": [],
   "source": [
    "new_df = df_data.copy()\n",
    "def add_grade(input_df):\n",
    "       osszeg = (input_df['math score']+input_df['reading score'] + input_df['writing score'])/300\n",
    "       jegy = []\n",
    "       for i in osszeg:\n",
    "              if osszeg > 0.9:\n",
    "                     jegy.append(5)\n",
    "              elif osszeg >0.8 and osszeg<=0.9:\n",
    "                     jegy.append(4)\n",
    "              elif osszeg >0.65 and osszeg<=0.8:\n",
    "                     jegy.append(3)\n",
    "              elif osszeg >0.5 and osszeg<=0.65:\n",
    "                     jegy.append(2)\n",
    "              else:\n",
    "                     jegy.append(1)\n",
    "       return jegy"
   ],
   "metadata": {
    "collapsed": false,
    "ExecuteTime": {
     "end_time": "2023-10-08T20:32:47.294599700Z",
     "start_time": "2023-10-08T20:32:47.294090600Z"
    }
   },
   "id": "ecbbcc0de7943fa2"
  },
  {
   "cell_type": "code",
   "execution_count": 156,
   "outputs": [
    {
     "ename": "ValueError",
     "evalue": "The truth value of a Series is ambiguous. Use a.empty, a.bool(), a.item(), a.any() or a.all().",
     "output_type": "error",
     "traceback": [
      "\u001B[1;31m---------------------------------------------------------------------------\u001B[0m",
      "\u001B[1;31mValueError\u001B[0m                                Traceback (most recent call last)",
      "\u001B[1;32m~\\AppData\\Local\\Temp\\ipykernel_4344\\3639281257.py\u001B[0m in \u001B[0;36m?\u001B[1;34m()\u001B[0m\n\u001B[1;32m----> 1\u001B[1;33m \u001B[0madd_grade\u001B[0m\u001B[1;33m(\u001B[0m\u001B[0mnew_df\u001B[0m\u001B[1;33m)\u001B[0m\u001B[1;33m\u001B[0m\u001B[1;33m\u001B[0m\u001B[0m\n\u001B[0m",
      "\u001B[1;32m~\\AppData\\Local\\Temp\\ipykernel_4344\\2374551528.py\u001B[0m in \u001B[0;36m?\u001B[1;34m(input_df)\u001B[0m\n\u001B[0;32m      2\u001B[0m \u001B[1;32mdef\u001B[0m \u001B[0madd_grade\u001B[0m\u001B[1;33m(\u001B[0m\u001B[0minput_df\u001B[0m\u001B[1;33m)\u001B[0m\u001B[1;33m:\u001B[0m\u001B[1;33m\u001B[0m\u001B[1;33m\u001B[0m\u001B[0m\n\u001B[0;32m      3\u001B[0m        \u001B[0mosszeg\u001B[0m \u001B[1;33m=\u001B[0m \u001B[1;33m(\u001B[0m\u001B[0minput_df\u001B[0m\u001B[1;33m[\u001B[0m\u001B[1;34m'math score'\u001B[0m\u001B[1;33m]\u001B[0m\u001B[1;33m+\u001B[0m\u001B[0minput_df\u001B[0m\u001B[1;33m[\u001B[0m\u001B[1;34m'reading score'\u001B[0m\u001B[1;33m]\u001B[0m \u001B[1;33m+\u001B[0m \u001B[0minput_df\u001B[0m\u001B[1;33m[\u001B[0m\u001B[1;34m'writing score'\u001B[0m\u001B[1;33m]\u001B[0m\u001B[1;33m)\u001B[0m\u001B[1;33m/\u001B[0m\u001B[1;36m300\u001B[0m\u001B[1;33m\u001B[0m\u001B[1;33m\u001B[0m\u001B[0m\n\u001B[0;32m      4\u001B[0m        \u001B[0mjegy\u001B[0m \u001B[1;33m=\u001B[0m \u001B[1;33m[\u001B[0m\u001B[1;33m]\u001B[0m\u001B[1;33m\u001B[0m\u001B[1;33m\u001B[0m\u001B[0m\n\u001B[0;32m      5\u001B[0m        \u001B[1;32mfor\u001B[0m \u001B[0mi\u001B[0m \u001B[1;32min\u001B[0m \u001B[0mosszeg\u001B[0m\u001B[1;33m:\u001B[0m\u001B[1;33m\u001B[0m\u001B[1;33m\u001B[0m\u001B[0m\n\u001B[1;32m----> 6\u001B[1;33m               \u001B[1;32mif\u001B[0m \u001B[0mosszeg\u001B[0m \u001B[1;33m>\u001B[0m \u001B[1;36m0.9\u001B[0m\u001B[1;33m:\u001B[0m\u001B[1;33m\u001B[0m\u001B[1;33m\u001B[0m\u001B[0m\n\u001B[0m\u001B[0;32m      7\u001B[0m                      \u001B[0mjegy\u001B[0m\u001B[1;33m.\u001B[0m\u001B[0mappend\u001B[0m\u001B[1;33m(\u001B[0m\u001B[1;36m5\u001B[0m\u001B[1;33m)\u001B[0m\u001B[1;33m\u001B[0m\u001B[1;33m\u001B[0m\u001B[0m\n\u001B[0;32m      8\u001B[0m               \u001B[1;32melif\u001B[0m \u001B[0mosszeg\u001B[0m \u001B[1;33m>\u001B[0m\u001B[1;36m0.8\u001B[0m \u001B[1;32mand\u001B[0m \u001B[0mosszeg\u001B[0m\u001B[1;33m<=\u001B[0m\u001B[1;36m0.9\u001B[0m\u001B[1;33m:\u001B[0m\u001B[1;33m\u001B[0m\u001B[1;33m\u001B[0m\u001B[0m\n\u001B[0;32m      9\u001B[0m                      \u001B[0mjegy\u001B[0m\u001B[1;33m.\u001B[0m\u001B[0mappend\u001B[0m\u001B[1;33m(\u001B[0m\u001B[1;36m4\u001B[0m\u001B[1;33m)\u001B[0m\u001B[1;33m\u001B[0m\u001B[1;33m\u001B[0m\u001B[0m\n",
      "\u001B[1;32m~\\Documents\\GitHub\\ECOPY_23241\\venv\\Lib\\site-packages\\pandas\\core\\generic.py\u001B[0m in \u001B[0;36m?\u001B[1;34m(self)\u001B[0m\n\u001B[0;32m   1517\u001B[0m     \u001B[1;33m@\u001B[0m\u001B[0mfinal\u001B[0m\u001B[1;33m\u001B[0m\u001B[1;33m\u001B[0m\u001B[0m\n\u001B[0;32m   1518\u001B[0m     \u001B[1;32mdef\u001B[0m \u001B[0m__nonzero__\u001B[0m\u001B[1;33m(\u001B[0m\u001B[0mself\u001B[0m\u001B[1;33m)\u001B[0m \u001B[1;33m->\u001B[0m \u001B[0mNoReturn\u001B[0m\u001B[1;33m:\u001B[0m\u001B[1;33m\u001B[0m\u001B[1;33m\u001B[0m\u001B[0m\n\u001B[1;32m-> 1519\u001B[1;33m         raise ValueError(\n\u001B[0m\u001B[0;32m   1520\u001B[0m             \u001B[1;34mf\"The truth value of a {type(self).__name__} is ambiguous. \"\u001B[0m\u001B[1;33m\u001B[0m\u001B[1;33m\u001B[0m\u001B[0m\n\u001B[0;32m   1521\u001B[0m             \u001B[1;34m\"Use a.empty, a.bool(), a.item(), a.any() or a.all().\"\u001B[0m\u001B[1;33m\u001B[0m\u001B[1;33m\u001B[0m\u001B[0m\n\u001B[0;32m   1522\u001B[0m         )\n",
      "\u001B[1;31mValueError\u001B[0m: The truth value of a Series is ambiguous. Use a.empty, a.bool(), a.item(), a.any() or a.all()."
     ]
    }
   ],
   "source": [
    "add_grade(new_df)"
   ],
   "metadata": {
    "collapsed": false,
    "ExecuteTime": {
     "end_time": "2023-10-08T20:32:49.103783800Z",
     "start_time": "2023-10-08T20:32:49.063965Z"
    }
   },
   "id": "28ede36193caca47"
  },
  {
   "cell_type": "code",
   "execution_count": null,
   "outputs": [],
   "source": [
    "'''\n",
    "9., Készíts egy függvényt, ami a bemeneti Dataframe adatai alapján elkészít egy olyan oszlop diagrammot, ami vizualizálja a nemek által elért átlagos matek pontszámot.\n",
    "\n",
    "Oszlopdiagram címe legyen: 'Average Math Score by Gender'\n",
    "Az x tengely címe legyen: 'Gender'\n",
    "Az y tengely címe legyen: 'Math Score'\n",
    "\n",
    "függvény bemente: input_df\n",
    "Egy példa a kimenetre: fig\n",
    "kimeneti típus: matplotlib.figure.Figure\n",
    "függvény neve: math_bar_plot\n",
    "'''"
   ],
   "metadata": {
    "collapsed": false
   },
   "id": "6838c17f0aa93f0a"
  },
  {
   "cell_type": "code",
   "execution_count": 163,
   "outputs": [],
   "source": [
    "new_df = df_data.copy()\n",
    "def math_bar_plot(input_df):\n",
    "       fig, ax = plt.subplots()\n",
    "       ax.bar(input_df['gender'], input_df['math score'].mean())\n",
    "       ax.set_title('Average Math Score by Gender')\n",
    "       ax.set_xlabel('Gender')\n",
    "       ax.set_ylabel('Math Score')\n",
    "       return fig"
   ],
   "metadata": {
    "collapsed": false,
    "ExecuteTime": {
     "end_time": "2023-10-08T20:36:33.626984900Z",
     "start_time": "2023-10-08T20:36:33.590378Z"
    }
   },
   "id": "1a6993c7c280a77f"
  },
  {
   "cell_type": "code",
   "execution_count": 165,
   "outputs": [
    {
     "data": {
      "text/plain": "<Figure size 640x480 with 1 Axes>",
      "image/png": "[encoded data removed]"
     },
     "metadata": {},
     "output_type": "display_data"
    }
   ],
   "source": [
    "math_bar_plot(new_df)"
   ],
   "metadata": {
    "collapsed": false,
    "ExecuteTime": {
     "end_time": "2023-10-08T20:37:14.443725100Z",
     "start_time": "2023-10-08T20:37:13.347229500Z"
    }
   },
   "id": "195fde8491c091cb"
  },
  {
   "cell_type": "code",
   "execution_count": null,
   "outputs": [],
   "source": [
    "''' \n",
    "10., Készíts egy függvényt, ami a bemeneti Dataframe adatai alapján elkészít egy olyan histogramot, ami vizualizálja az elért írásbeli pontszámokat.\n",
    "\n",
    "A histogram címe legyen: 'Distribution of Writing Scores'\n",
    "Az x tengely címe legyen: 'Writing Score'\n",
    "Az y tengely címe legyen: 'Number of Students'\n",
    "\n",
    "függvény bemente: input_df\n",
    "Egy példa a kimenetre: fig\n",
    "kimeneti típus: matplotlib.figure.Figure\n",
    "függvény neve: writing_hist\n",
    "'''"
   ],
   "metadata": {
    "collapsed": false
   },
   "id": "f1d4c22ce458336b"
  },
  {
   "cell_type": "code",
   "execution_count": 188,
   "outputs": [],
   "source": [
    "new_df = df_data.copy()\n",
    "def writing_hist(input_df):\n",
    "       fig, ax = plt.subplots()\n",
    "       ax.hist(input_df['writing score'])\n",
    "       ax.set_ylabel('Number of Students')\n",
    "       ax.set_xlabel('Writing Score')\n",
    "       ax.set_title('Distribution of Writing Scores')\n",
    "       return fig"
   ],
   "metadata": {
    "collapsed": false,
    "ExecuteTime": {
     "end_time": "2023-10-08T21:06:02.635837300Z",
     "start_time": "2023-10-08T21:06:02.595951800Z"
    }
   },
   "id": "fa61d08952457b03"
  },
  {
   "cell_type": "code",
   "execution_count": 167,
   "outputs": [
    {
     "data": {
      "text/plain": "<Figure size 640x480 with 1 Axes>",
      "image/png": "[encoded data removed]"
     },
     "metadata": {},
     "output_type": "display_data"
    }
   ],
   "source": [
    "writing_hist(new_df)"
   ],
   "metadata": {
    "collapsed": false,
    "ExecuteTime": {
     "end_time": "2023-10-08T20:41:04.460979900Z",
     "start_time": "2023-10-08T20:41:04.337529600Z"
    }
   },
   "id": "a507ec0063e81578"
  },
  {
   "cell_type": "code",
   "execution_count": null,
   "outputs": [],
   "source": [
    "''' \n",
    "11., Készíts egy függvényt, ami a bemeneti Dataframe adatai alapján elkészít egy olyan kördiagramot, ami vizualizálja a diákok etnikum csoportok szerinti eloszlását százalékosan.\n",
    "\n",
    "Érdemes megszámolni a diákok számát, etnikum csoportonként,majd a százalékos kirajzolást az autopct='%1.1f%%' paraméterrel megadható.\n",
    "Mindegyik kör szelethez tartozzon egy címke, ami a csoport nevét tartalmazza.\n",
    "A diagram címe legyen: 'Proportion of Students by Race/Ethnicity'\n",
    "\n",
    "függvény bemente: input_df\n",
    "Egy példa a kimenetre: fig\n",
    "kimeneti típus: matplotlib.figure.Figure\n",
    "függvény neve: ethnicity_pie_chart\n",
    "'''"
   ],
   "metadata": {
    "collapsed": false
   },
   "id": "2e202c23683b5f7"
  },
  {
   "cell_type": "code",
   "execution_count": 173,
   "outputs": [
    {
     "data": {
      "text/plain": "     gender race/ethnicity parental level of education         lunch  \\\n0    female        group B           bachelor's degree      standard   \n1    female        group C                some college      standard   \n2    female        group B             master's degree      standard   \n3      male        group A          associate's degree  free/reduced   \n4      male        group C                some college      standard   \n..      ...            ...                         ...           ...   \n995  female        group E             master's degree      standard   \n996    male        group C                 high school  free/reduced   \n997  female        group C                 high school  free/reduced   \n998  female        group D                some college      standard   \n999  female        group D                some college  free/reduced   \n\n    test preparation course  math score  reading score  writing score  \n0                      none          72             72             74  \n1                 completed          69             90             88  \n2                      none          90             95             93  \n3                      none          47             57             44  \n4                      none          76             78             75  \n..                      ...         ...            ...            ...  \n995               completed          88             99             95  \n996                    none          62             55             55  \n997               completed          59             71             65  \n998               completed          68             78             77  \n999                    none          77             86             86  \n\n[1000 rows x 8 columns]",
      "text/html": "<div>\n<style scoped>\n    .dataframe tbody tr th:only-of-type {\n        vertical-align: middle;\n    }\n\n    .dataframe tbody tr th {\n        vertical-align: top;\n    }\n\n    .dataframe thead th {\n        text-align: right;\n    }\n</style>\n<table border=\"1\" class=\"dataframe\">\n  <thead>\n    <tr style=\"text-align: right;\">\n      <th></th>\n      <th>gender</th>\n      <th>race/ethnicity</th>\n      <th>parental level of education</th>\n      <th>lunch</th>\n      <th>test preparation course</th>\n      <th>math score</th>\n      <th>reading score</th>\n      <th>writing score</th>\n    </tr>\n  </thead>\n  <tbody>\n    <tr>\n      <th>0</th>\n      <td>female</td>\n      <td>group B</td>\n      <td>bachelor's degree</td>\n      <td>standard</td>\n      <td>none</td>\n      <td>72</td>\n      <td>72</td>\n      <td>74</td>\n    </tr>\n    <tr>\n      <th>1</th>\n      <td>female</td>\n      <td>group C</td>\n      <td>some college</td>\n      <td>standard</td>\n      <td>completed</td>\n      <td>69</td>\n      <td>90</td>\n      <td>88</td>\n    </tr>\n    <tr>\n      <th>2</th>\n      <td>female</td>\n      <td>group B</td>\n      <td>master's degree</td>\n      <td>standard</td>\n      <td>none</td>\n      <td>90</td>\n      <td>95</td>\n      <td>93</td>\n    </tr>\n    <tr>\n      <th>3</th>\n      <td>male</td>\n      <td>group A</td>\n      <td>associate's degree</td>\n      <td>free/reduced</td>\n      <td>none</td>\n      <td>47</td>\n      <td>57</td>\n      <td>44</td>\n    </tr>\n    <tr>\n      <th>4</th>\n      <td>male</td>\n      <td>group C</td>\n      <td>some college</td>\n      <td>standard</td>\n      <td>none</td>\n      <td>76</td>\n      <td>78</td>\n      <td>75</td>\n    </tr>\n    <tr>\n      <th>...</th>\n      <td>...</td>\n      <td>...</td>\n      <td>...</td>\n      <td>...</td>\n      <td>...</td>\n      <td>...</td>\n      <td>...</td>\n      <td>...</td>\n    </tr>\n    <tr>\n      <th>995</th>\n      <td>female</td>\n      <td>group E</td>\n      <td>master's degree</td>\n      <td>standard</td>\n      <td>completed</td>\n      <td>88</td>\n      <td>99</td>\n      <td>95</td>\n    </tr>\n    <tr>\n      <th>996</th>\n      <td>male</td>\n      <td>group C</td>\n      <td>high school</td>\n      <td>free/reduced</td>\n      <td>none</td>\n      <td>62</td>\n      <td>55</td>\n      <td>55</td>\n    </tr>\n    <tr>\n      <th>997</th>\n      <td>female</td>\n      <td>group C</td>\n      <td>high school</td>\n      <td>free/reduced</td>\n      <td>completed</td>\n      <td>59</td>\n      <td>71</td>\n      <td>65</td>\n    </tr>\n    <tr>\n      <th>998</th>\n      <td>female</td>\n      <td>group D</td>\n      <td>some college</td>\n      <td>standard</td>\n      <td>completed</td>\n      <td>68</td>\n      <td>78</td>\n      <td>77</td>\n    </tr>\n    <tr>\n      <th>999</th>\n      <td>female</td>\n      <td>group D</td>\n      <td>some college</td>\n      <td>free/reduced</td>\n      <td>none</td>\n      <td>77</td>\n      <td>86</td>\n      <td>86</td>\n    </tr>\n  </tbody>\n</table>\n<p>1000 rows × 8 columns</p>\n</div>"
     },
     "execution_count": 173,
     "metadata": {},
     "output_type": "execute_result"
    }
   ],
   "source": [
    "new_df"
   ],
   "metadata": {
    "collapsed": false,
    "ExecuteTime": {
     "end_time": "2023-10-08T20:50:35.285068100Z",
     "start_time": "2023-10-08T20:50:35.204755100Z"
    }
   },
   "id": "b905f93134cd8c2c"
  },
  {
   "cell_type": "code",
   "execution_count": 187,
   "outputs": [],
   "source": [
    "new_df = df_data.copy()\n",
    "def ethnicity_pie_chart(input_df):\n",
    "       fig, ax = plt.subplots()\n",
    "       ax.pie(input_df['race/ethnicity'].value_counts(), autopct='%1.1f%%', labels=input_df['race/ethnicity'].unique())\n",
    "       ax.set_title('Proportion of Students by Race/Ethnicity')\n",
    "       return fig"
   ],
   "metadata": {
    "collapsed": false,
    "ExecuteTime": {
     "end_time": "2023-10-08T21:05:51.686036Z",
     "start_time": "2023-10-08T21:05:51.668608700Z"
    }
   },
   "id": "23a9a1992cca1303"
  },
  {
   "cell_type": "code",
   "execution_count": 186,
   "outputs": [
    {
     "data": {
      "text/plain": "<Figure size 640x480 with 1 Axes>",
      "image/png": "[encoded data removed]"
     },
     "metadata": {},
     "output_type": "display_data"
    }
   ],
   "source": [
    "ethnicity_pie_chart(new_df)"
   ],
   "metadata": {
    "collapsed": false,
    "ExecuteTime": {
     "end_time": "2023-10-08T21:05:40.447793500Z",
     "start_time": "2023-10-08T21:05:40.367114700Z"
    }
   },
   "id": "486023fdc24610f1"
  },
  {
   "cell_type": "markdown",
   "source": [
    "Szimulációs feladat"
   ],
   "metadata": {
    "collapsed": false
   },
   "id": "6861dbeedc835c61"
  },
  {
   "cell_type": "code",
   "execution_count": null,
   "outputs": [],
   "source": [
    "\"\"\"\n",
    "1. Készíts egy függvényt, ami létrehoz egy listát, benne number_of_trajectories db listával. A belső listák létrehozásának logikája a következő:\n",
    "    A bemeneti paraméterként kapott normal_distribution osztály felhasználásával (NormalDistribution 0,1 paraméterekkel) generálj length_of_trajectory véletlen számot\n",
    "    A belső lista tartalmazza a generált számok kumulatív átlagát.\n",
    "    Ismételd meg number_of_trajectories alkalommal (mindegyik belső listába egyszer)\n",
    "\n",
    "függvény bemenete: normal_distribution, number_of_trajectories, length_of_trajectory\n",
    "kimeneti típus: List    \n",
    "függvény neve: generate_mean_trajectories\n",
    "\"\"\""
   ],
   "metadata": {
    "collapsed": false
   },
   "id": "d36c0a7156750c9e"
  },
  {
   "cell_type": "code",
   "execution_count": null,
   "outputs": [],
   "source": [],
   "metadata": {
    "collapsed": false
   },
   "id": "1d0eeb60b6bde96a"
  },
  {
   "cell_type": "markdown",
   "source": [
    "A 2. feladatban használhatsz numpy-t."
   ],
   "metadata": {
    "collapsed": false
   },
   "id": "a25908675ef61ba3"
  },
  {
   "cell_type": "code",
   "execution_count": null,
   "outputs": [],
   "source": [
    "\"\"\"\n",
    "2., Az előző feladatban létrehozott listák listáját ábrázold vonal ábrával. Minden vonal feleljen meg 1 belső listának (50 vonal legyen az ábrán)\n",
    "\n",
    "Az ábra címe: Mean trajectories\n",
    "\n",
    "függvény bemente: input_list\n",
    "függvény kimenete: fig\n",
    "kimeneti típus: matplotlib.figure.Figure\n",
    "\n",
    "\"\"\""
   ],
   "metadata": {
    "collapsed": false
   },
   "id": "d6d868238a5b5f73"
  },
  {
   "cell_type": "code",
   "execution_count": null,
   "outputs": [],
   "source": [],
   "metadata": {
    "collapsed": false
   },
   "id": "77ce6db0ee09b724"
  }
 ],
 "metadata": {
  "kernelspec": {
   "display_name": "Python 3",
   "language": "python",
   "name": "python3"
  },
  "language_info": {
   "codemirror_mode": {
    "name": "ipython",
    "version": 2
   },
   "file_extension": ".py",
   "mimetype": "text/x-python",
   "name": "python",
   "nbconvert_exporter": "python",
   "pygments_lexer": "ipython2",
   "version": "2.7.6"
  }
 },
 "nbformat": 4,
 "nbformat_minor": 5
}
