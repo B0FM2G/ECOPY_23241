{
 "cells": [
  {
   "cell_type": "markdown",
   "id": "de9d9737616514b8",
   "metadata": {
    "collapsed": false
   },
   "source": [
    "## Az eredményeket mentsd a src/weekly modul-ba weekly_test_5.py néven"
   ]
  },
  {
   "cell_type": "markdown",
   "id": "a9789db8f0fbd7ec",
   "metadata": {
    "collapsed": false
   },
   "source": [
    "#### Használható modulok: pandas, typing, matplotlib, random, src.utils, src.weekly, str"
   ]
  },
  {
   "cell_type": "code",
   "execution_count": 2,
   "id": "dfea6e648868022e",
   "metadata": {
    "collapsed": false,
    "ExecuteTime": {
     "end_time": "2023-10-18T17:18:26.481098400Z",
     "start_time": "2023-10-18T17:18:26.464369400Z"
    }
   },
   "outputs": [],
   "source": [
    "from pathlib import Path\n",
    "\n",
    "file_to_load = Path.cwd().parent.joinpath('data').joinpath('chipotle.tsv')"
   ]
  },
  {
   "cell_type": "code",
   "execution_count": null,
   "id": "9d26aec7b4e97407",
   "metadata": {
    "collapsed": false
   },
   "outputs": [],
   "source": [
    "\"\"\"\n",
    "1., Olvasd be a data mappa chipotle.tsv nevű fájlját egy dataframe-be. A betöltött   adatokat food nevű változóban mentse. A következő feladatokban a kiinduló fájlt csak akkor írd felül, ha jelezve van.\n",
    "\"\"\""
   ]
  },
  {
   "cell_type": "code",
   "execution_count": 8,
   "id": "f1945d927f8109c4",
   "metadata": {
    "collapsed": false,
    "ExecuteTime": {
     "end_time": "2023-10-18T17:20:12.655995300Z",
     "start_time": "2023-10-18T17:20:12.633818900Z"
    }
   },
   "outputs": [],
   "source": [
    "import pandas as pd\n",
    "food = pd.read_csv('../data/chipotle.tsv',sep='\\t')"
   ]
  },
  {
   "cell_type": "code",
   "execution_count": 9,
   "outputs": [
    {
     "data": {
      "text/plain": "      order_id  quantity                              item_name  \\\n0            1         1           Chips and Fresh Tomato Salsa   \n1            1         1                                   Izze   \n2            1         1                       Nantucket Nectar   \n3            1         1  Chips and Tomatillo-Green Chili Salsa   \n4            2         2                           Chicken Bowl   \n...        ...       ...                                    ...   \n4617      1833         1                          Steak Burrito   \n4618      1833         1                          Steak Burrito   \n4619      1834         1                     Chicken Salad Bowl   \n4620      1834         1                     Chicken Salad Bowl   \n4621      1834         1                     Chicken Salad Bowl   \n\n                                     choice_description item_price  \n0                                                   NaN     $2.39   \n1                                          [Clementine]     $3.39   \n2                                               [Apple]     $3.39   \n3                                                   NaN     $2.39   \n4     [Tomatillo-Red Chili Salsa (Hot), [Black Beans...    $16.98   \n...                                                 ...        ...  \n4617  [Fresh Tomato Salsa, [Rice, Black Beans, Sour ...    $11.75   \n4618  [Fresh Tomato Salsa, [Rice, Sour Cream, Cheese...    $11.75   \n4619  [Fresh Tomato Salsa, [Fajita Vegetables, Pinto...    $11.25   \n4620  [Fresh Tomato Salsa, [Fajita Vegetables, Lettu...     $8.75   \n4621  [Fresh Tomato Salsa, [Fajita Vegetables, Pinto...     $8.75   \n\n[4622 rows x 5 columns]",
      "text/html": "<div>\n<style scoped>\n    .dataframe tbody tr th:only-of-type {\n        vertical-align: middle;\n    }\n\n    .dataframe tbody tr th {\n        vertical-align: top;\n    }\n\n    .dataframe thead th {\n        text-align: right;\n    }\n</style>\n<table border=\"1\" class=\"dataframe\">\n  <thead>\n    <tr style=\"text-align: right;\">\n      <th></th>\n      <th>order_id</th>\n      <th>quantity</th>\n      <th>item_name</th>\n      <th>choice_description</th>\n      <th>item_price</th>\n    </tr>\n  </thead>\n  <tbody>\n    <tr>\n      <th>0</th>\n      <td>1</td>\n      <td>1</td>\n      <td>Chips and Fresh Tomato Salsa</td>\n      <td>NaN</td>\n      <td>$2.39</td>\n    </tr>\n    <tr>\n      <th>1</th>\n      <td>1</td>\n      <td>1</td>\n      <td>Izze</td>\n      <td>[Clementine]</td>\n      <td>$3.39</td>\n    </tr>\n    <tr>\n      <th>2</th>\n      <td>1</td>\n      <td>1</td>\n      <td>Nantucket Nectar</td>\n      <td>[Apple]</td>\n      <td>$3.39</td>\n    </tr>\n    <tr>\n      <th>3</th>\n      <td>1</td>\n      <td>1</td>\n      <td>Chips and Tomatillo-Green Chili Salsa</td>\n      <td>NaN</td>\n      <td>$2.39</td>\n    </tr>\n    <tr>\n      <th>4</th>\n      <td>2</td>\n      <td>2</td>\n      <td>Chicken Bowl</td>\n      <td>[Tomatillo-Red Chili Salsa (Hot), [Black Beans...</td>\n      <td>$16.98</td>\n    </tr>\n    <tr>\n      <th>...</th>\n      <td>...</td>\n      <td>...</td>\n      <td>...</td>\n      <td>...</td>\n      <td>...</td>\n    </tr>\n    <tr>\n      <th>4617</th>\n      <td>1833</td>\n      <td>1</td>\n      <td>Steak Burrito</td>\n      <td>[Fresh Tomato Salsa, [Rice, Black Beans, Sour ...</td>\n      <td>$11.75</td>\n    </tr>\n    <tr>\n      <th>4618</th>\n      <td>1833</td>\n      <td>1</td>\n      <td>Steak Burrito</td>\n      <td>[Fresh Tomato Salsa, [Rice, Sour Cream, Cheese...</td>\n      <td>$11.75</td>\n    </tr>\n    <tr>\n      <th>4619</th>\n      <td>1834</td>\n      <td>1</td>\n      <td>Chicken Salad Bowl</td>\n      <td>[Fresh Tomato Salsa, [Fajita Vegetables, Pinto...</td>\n      <td>$11.25</td>\n    </tr>\n    <tr>\n      <th>4620</th>\n      <td>1834</td>\n      <td>1</td>\n      <td>Chicken Salad Bowl</td>\n      <td>[Fresh Tomato Salsa, [Fajita Vegetables, Lettu...</td>\n      <td>$8.75</td>\n    </tr>\n    <tr>\n      <th>4621</th>\n      <td>1834</td>\n      <td>1</td>\n      <td>Chicken Salad Bowl</td>\n      <td>[Fresh Tomato Salsa, [Fajita Vegetables, Pinto...</td>\n      <td>$8.75</td>\n    </tr>\n  </tbody>\n</table>\n<p>4622 rows × 5 columns</p>\n</div>"
     },
     "execution_count": 9,
     "metadata": {},
     "output_type": "execute_result"
    }
   ],
   "source": [
    "food"
   ],
   "metadata": {
    "collapsed": false,
    "ExecuteTime": {
     "end_time": "2023-10-18T17:20:16.398347900Z",
     "start_time": "2023-10-18T17:20:16.331706100Z"
    }
   },
   "id": "f35d60f5979c143f"
  },
  {
   "cell_type": "code",
   "execution_count": null,
   "outputs": [],
   "source": [
    "\"\"\"\n",
    "2., Készts egy függvényt, ami a bemeneti adattömbben átalakítja az item_price értékeit float-ra. Az eredeti adatokat a függvény ne módosítsa. A kapott, tisztított adatokkal írd felül a food változót.\n",
    "\n",
    "függvény név: change_price_to_float\n",
    "bemenet: input_df\n",
    "kimeneti típus: pandas.core.frame.DataFrame\n",
    "\"\"\""
   ],
   "metadata": {
    "collapsed": false
   },
   "id": "d42ee754b557dcef"
  },
  {
   "cell_type": "code",
   "execution_count": 39,
   "outputs": [],
   "source": [
    "def change_price_to_float(input_df):\n",
    "    new_df=input_df.copy()\n",
    "    new_df['item_price'] = new_df['item_price'].str.replace('$', '').astype(float)\n",
    "    return new_df"
   ],
   "metadata": {
    "collapsed": false,
    "ExecuteTime": {
     "end_time": "2023-10-18T17:41:59.614471400Z",
     "start_time": "2023-10-18T17:41:59.580992400Z"
    }
   },
   "id": "62f342effc8f0d82"
  },
  {
   "cell_type": "code",
   "execution_count": 75,
   "outputs": [],
   "source": [
    "food = change_price_to_float(food)"
   ],
   "metadata": {
    "collapsed": false,
    "ExecuteTime": {
     "end_time": "2023-10-18T18:19:07.823441400Z",
     "start_time": "2023-10-18T18:19:07.773849500Z"
    }
   },
   "id": "97a528d6564e3cde"
  },
  {
   "cell_type": "code",
   "execution_count": null,
   "id": "b79c977da040d844",
   "metadata": {
    "collapsed": false
   },
   "outputs": [],
   "source": [
    "\"\"\"\n",
    "3., Készíts egy függvényt, ami megmondja, hogy hány megfigyelés található az adathalmazban\n",
    "\n",
    "függvény név: number_of_observations\n",
    "bemenet: input_df\n",
    "kimeneti típus: int\n",
    "\"\"\""
   ]
  },
  {
   "cell_type": "code",
   "execution_count": 13,
   "id": "505baa2089524304",
   "metadata": {
    "collapsed": false,
    "ExecuteTime": {
     "end_time": "2023-10-18T17:24:03.078735200Z",
     "start_time": "2023-10-18T17:24:03.069180Z"
    }
   },
   "outputs": [],
   "source": [
    "def number_of_observations(input_df):\n",
    "    new_df=input_df.copy()\n",
    "    return len(new_df)"
   ]
  },
  {
   "cell_type": "code",
   "execution_count": 14,
   "id": "9d190eb6f3a482b6",
   "metadata": {
    "collapsed": false,
    "ExecuteTime": {
     "end_time": "2023-10-18T17:24:08.529021200Z",
     "start_time": "2023-10-18T17:24:08.525317Z"
    }
   },
   "outputs": [
    {
     "data": {
      "text/plain": "4622"
     },
     "execution_count": 14,
     "metadata": {},
     "output_type": "execute_result"
    }
   ],
   "source": [
    "number_of_observations(food)"
   ]
  },
  {
   "cell_type": "code",
   "execution_count": null,
   "id": "dd10fafbf699543d",
   "metadata": {
    "collapsed": false
   },
   "outputs": [],
   "source": [
    "\"\"\"\n",
    "4., Készíts egy függvényt, ami visszadja a termék neveket és az áraikat.\n",
    "\n",
    "függvény név: items_and_prices\n",
    "bemenet: input_df\n",
    "kimeneti típus: pandas.core.frame.DataFrame\n",
    "\"\"\""
   ]
  },
  {
   "cell_type": "code",
   "execution_count": 15,
   "id": "a58cb336d2bac95d",
   "metadata": {
    "collapsed": false,
    "ExecuteTime": {
     "end_time": "2023-10-18T17:25:20.331171Z",
     "start_time": "2023-10-18T17:25:20.308347200Z"
    }
   },
   "outputs": [],
   "source": [
    "def items_and_prices(input_df):\n",
    "    new_df=input_df.copy()\n",
    "    return new_df.loc[:, ['item_name', 'item_price']]"
   ]
  },
  {
   "cell_type": "code",
   "execution_count": 16,
   "id": "47f914b529be356b",
   "metadata": {
    "collapsed": false,
    "ExecuteTime": {
     "end_time": "2023-10-18T17:25:25.112696200Z",
     "start_time": "2023-10-18T17:25:25.095935400Z"
    }
   },
   "outputs": [
    {
     "data": {
      "text/plain": "                                  item_name item_price\n0              Chips and Fresh Tomato Salsa     $2.39 \n1                                      Izze     $3.39 \n2                          Nantucket Nectar     $3.39 \n3     Chips and Tomatillo-Green Chili Salsa     $2.39 \n4                              Chicken Bowl    $16.98 \n...                                     ...        ...\n4617                          Steak Burrito    $11.75 \n4618                          Steak Burrito    $11.75 \n4619                     Chicken Salad Bowl    $11.25 \n4620                     Chicken Salad Bowl     $8.75 \n4621                     Chicken Salad Bowl     $8.75 \n\n[4622 rows x 2 columns]",
      "text/html": "<div>\n<style scoped>\n    .dataframe tbody tr th:only-of-type {\n        vertical-align: middle;\n    }\n\n    .dataframe tbody tr th {\n        vertical-align: top;\n    }\n\n    .dataframe thead th {\n        text-align: right;\n    }\n</style>\n<table border=\"1\" class=\"dataframe\">\n  <thead>\n    <tr style=\"text-align: right;\">\n      <th></th>\n      <th>item_name</th>\n      <th>item_price</th>\n    </tr>\n  </thead>\n  <tbody>\n    <tr>\n      <th>0</th>\n      <td>Chips and Fresh Tomato Salsa</td>\n      <td>$2.39</td>\n    </tr>\n    <tr>\n      <th>1</th>\n      <td>Izze</td>\n      <td>$3.39</td>\n    </tr>\n    <tr>\n      <th>2</th>\n      <td>Nantucket Nectar</td>\n      <td>$3.39</td>\n    </tr>\n    <tr>\n      <th>3</th>\n      <td>Chips and Tomatillo-Green Chili Salsa</td>\n      <td>$2.39</td>\n    </tr>\n    <tr>\n      <th>4</th>\n      <td>Chicken Bowl</td>\n      <td>$16.98</td>\n    </tr>\n    <tr>\n      <th>...</th>\n      <td>...</td>\n      <td>...</td>\n    </tr>\n    <tr>\n      <th>4617</th>\n      <td>Steak Burrito</td>\n      <td>$11.75</td>\n    </tr>\n    <tr>\n      <th>4618</th>\n      <td>Steak Burrito</td>\n      <td>$11.75</td>\n    </tr>\n    <tr>\n      <th>4619</th>\n      <td>Chicken Salad Bowl</td>\n      <td>$11.25</td>\n    </tr>\n    <tr>\n      <th>4620</th>\n      <td>Chicken Salad Bowl</td>\n      <td>$8.75</td>\n    </tr>\n    <tr>\n      <th>4621</th>\n      <td>Chicken Salad Bowl</td>\n      <td>$8.75</td>\n    </tr>\n  </tbody>\n</table>\n<p>4622 rows × 2 columns</p>\n</div>"
     },
     "execution_count": 16,
     "metadata": {},
     "output_type": "execute_result"
    }
   ],
   "source": [
    "items_and_prices(food)"
   ]
  },
  {
   "cell_type": "code",
   "execution_count": null,
   "id": "a35053917db8723e",
   "metadata": {
    "collapsed": false
   },
   "outputs": [],
   "source": [
    "\"\"\"\n",
    "5., Készíts egy függvényt, ami sorba rendezi az termékeket az áruk alapján, csökkenő sorrendben. Használd az előző  függvény eredményét.\n",
    "\n",
    "függvény név: sorted_by_price\n",
    "bemenet: input_df\n",
    "kimeneti típus: pandas.core.frame.DataFrame\n",
    "\n",
    "\"\"\""
   ]
  },
  {
   "cell_type": "code",
   "execution_count": 20,
   "id": "5c764033a4ca200b",
   "metadata": {
    "collapsed": false,
    "ExecuteTime": {
     "end_time": "2023-10-18T17:27:15.895875900Z",
     "start_time": "2023-10-18T17:27:15.887639700Z"
    }
   },
   "outputs": [],
   "source": [
    "def sorted_by_price(input_df):\n",
    "    new_df=input_df.copy()\n",
    "    return items_and_prices(new_df).sort_values('item_price', ascending=False)"
   ]
  },
  {
   "cell_type": "code",
   "execution_count": 21,
   "id": "a10e9e934b2a98b8",
   "metadata": {
    "collapsed": false,
    "ExecuteTime": {
     "end_time": "2023-10-18T17:27:17.843826600Z",
     "start_time": "2023-10-18T17:27:17.811385200Z"
    }
   },
   "outputs": [
    {
     "data": {
      "text/plain": "                item_name item_price\n2624     Steak Salad Bowl     $9.39 \n4419     Steak Salad Bowl     $9.39 \n4036     Steak Salad Bowl     $9.39 \n1825  Barbacoa Salad Bowl     $9.39 \n3115  Carnitas Salad Bowl     $9.39 \n...                   ...        ...\n3145          Canned Soda     $1.09 \n414           Canned Soda     $1.09 \n3162          Canned Soda     $1.09 \n821           Canned Soda     $1.09 \n1457          Canned Soda     $1.09 \n\n[4622 rows x 2 columns]",
      "text/html": "<div>\n<style scoped>\n    .dataframe tbody tr th:only-of-type {\n        vertical-align: middle;\n    }\n\n    .dataframe tbody tr th {\n        vertical-align: top;\n    }\n\n    .dataframe thead th {\n        text-align: right;\n    }\n</style>\n<table border=\"1\" class=\"dataframe\">\n  <thead>\n    <tr style=\"text-align: right;\">\n      <th></th>\n      <th>item_name</th>\n      <th>item_price</th>\n    </tr>\n  </thead>\n  <tbody>\n    <tr>\n      <th>2624</th>\n      <td>Steak Salad Bowl</td>\n      <td>$9.39</td>\n    </tr>\n    <tr>\n      <th>4419</th>\n      <td>Steak Salad Bowl</td>\n      <td>$9.39</td>\n    </tr>\n    <tr>\n      <th>4036</th>\n      <td>Steak Salad Bowl</td>\n      <td>$9.39</td>\n    </tr>\n    <tr>\n      <th>1825</th>\n      <td>Barbacoa Salad Bowl</td>\n      <td>$9.39</td>\n    </tr>\n    <tr>\n      <th>3115</th>\n      <td>Carnitas Salad Bowl</td>\n      <td>$9.39</td>\n    </tr>\n    <tr>\n      <th>...</th>\n      <td>...</td>\n      <td>...</td>\n    </tr>\n    <tr>\n      <th>3145</th>\n      <td>Canned Soda</td>\n      <td>$1.09</td>\n    </tr>\n    <tr>\n      <th>414</th>\n      <td>Canned Soda</td>\n      <td>$1.09</td>\n    </tr>\n    <tr>\n      <th>3162</th>\n      <td>Canned Soda</td>\n      <td>$1.09</td>\n    </tr>\n    <tr>\n      <th>821</th>\n      <td>Canned Soda</td>\n      <td>$1.09</td>\n    </tr>\n    <tr>\n      <th>1457</th>\n      <td>Canned Soda</td>\n      <td>$1.09</td>\n    </tr>\n  </tbody>\n</table>\n<p>4622 rows × 2 columns</p>\n</div>"
     },
     "execution_count": 21,
     "metadata": {},
     "output_type": "execute_result"
    }
   ],
   "source": [
    "sorted_by_price(food)"
   ]
  },
  {
   "cell_type": "code",
   "execution_count": null,
   "id": "30fd1aa0c59afb47",
   "metadata": {
    "collapsed": false
   },
   "outputs": [],
   "source": [
    "\"\"\"\n",
    "6., Készíts egy függvényt, ami visszaadja az átlagos árat.\n",
    "\n",
    "függvény név: avg_price\n",
    "bemenet: input_df\n",
    "kimeneti típus: float\n",
    "\n",
    "\"\"\""
   ]
  },
  {
   "cell_type": "code",
   "execution_count": 22,
   "id": "44865d1982f4fe17",
   "metadata": {
    "collapsed": false,
    "ExecuteTime": {
     "end_time": "2023-10-18T17:28:06.915275100Z",
     "start_time": "2023-10-18T17:28:06.911104600Z"
    }
   },
   "outputs": [],
   "source": [
    "def avg_price(input_df):\n",
    "    new_df=input_df.copy()\n",
    "    return new_df['item_price'].mean()"
   ]
  },
  {
   "cell_type": "code",
   "execution_count": null,
   "id": "8d4529f9fc423a7",
   "metadata": {
    "collapsed": false
   },
   "outputs": [],
   "source": [
    "avg_price(food)"
   ]
  },
  {
   "cell_type": "code",
   "execution_count": null,
   "id": "4637c401e0e6352c",
   "metadata": {
    "collapsed": false
   },
   "outputs": [],
   "source": [
    "\"\"\"\n",
    "7., Készíts egy függvényt, ami visszadja azokat az egyedi termékeket (név, feltét és ár szempontjából egyedi), amelyek ára 10 dollár felett van\n",
    "\n",
    "függvény név: unique_items_over_ten_dollars\n",
    "bement: input_df\n",
    "kimeneti típus: pandas.core.frame.DataFrame\n",
    "\n",
    "\"\"\""
   ]
  },
  {
   "cell_type": "code",
   "execution_count": 62,
   "id": "f1dd81478909c86c",
   "metadata": {
    "collapsed": false,
    "ExecuteTime": {
     "end_time": "2023-10-18T18:05:12.387205700Z",
     "start_time": "2023-10-18T18:05:12.382566200Z"
    }
   },
   "outputs": [],
   "source": [
    "def unique_items_over_ten_dollars(input_df):\n",
    "    new_df=input_df.copy()\n",
    "    new_df = new_df[new_df['item_price'] > 10]\n",
    "    new_df = new_df.drop_duplicates(subset=['item_name', 'choice_description', 'item_price'])\n",
    "    return new_df"
   ]
  },
  {
   "cell_type": "code",
   "execution_count": 64,
   "id": "5c1dc290a99cf46c",
   "metadata": {
    "collapsed": false,
    "ExecuteTime": {
     "end_time": "2023-10-18T18:05:19.544355300Z",
     "start_time": "2023-10-18T18:05:19.544355300Z"
    }
   },
   "outputs": [],
   "source": [
    "def items_starting_with_s(input_df):\n",
    "    new_df=input_df.copy()\n",
    "    new_df.drop_duplicates(subset='item_name')\n",
    "    return new_df['item_name'][new_df['item_name'].str.startswith('S')]"
   ]
  },
  {
   "cell_type": "code",
   "execution_count": 65,
   "outputs": [
    {
     "data": {
      "text/plain": "6          Side of Chips\n7          Steak Burrito\n8       Steak Soft Tacos\n9          Steak Burrito\n31         Steak Burrito\n              ...       \n4572    Steak Salad Bowl\n4607       Steak Burrito\n4610       Steak Burrito\n4617       Steak Burrito\n4618       Steak Burrito\nName: item_name, Length: 805, dtype: object"
     },
     "execution_count": 65,
     "metadata": {},
     "output_type": "execute_result"
    }
   ],
   "source": [
    "items_starting_with_s(food)"
   ],
   "metadata": {
    "collapsed": false,
    "ExecuteTime": {
     "end_time": "2023-10-18T18:05:21.021388200Z",
     "start_time": "2023-10-18T18:05:21.004652100Z"
    }
   },
   "id": "fa5eb9d5c8f5813f"
  },
  {
   "cell_type": "code",
   "execution_count": null,
   "id": "ff27a788246be43c",
   "metadata": {
    "collapsed": false
   },
   "outputs": [],
   "source": [
    "\"\"\"\n",
    "8., Készíts egy függvényt, ami visszaadja azon termékek neveit, amelyek neve 'S'-el kezdődik.\n",
    "\n",
    "fv. neve: items_starting_with_s\n",
    "bemenet: input_df\n",
    "kimeneti típus: pandas.core.frame.DataFrame\n",
    "\"\"\""
   ]
  },
  {
   "cell_type": "code",
   "execution_count": 71,
   "id": "2ebc475c23f0de6e",
   "metadata": {
    "collapsed": false,
    "ExecuteTime": {
     "end_time": "2023-10-18T18:15:07.936721800Z",
     "start_time": "2023-10-18T18:15:07.925616800Z"
    }
   },
   "outputs": [],
   "source": [
    "def items_starting_with_s(input_df):\n",
    "    new_df=input_df.copy()\n",
    "    new_df = new_df.drop_duplicates(subset=['item_name'])\n",
    "    new_df = new_df['item_name'][new_df['item_name'].str.startswith('S')]\n",
    "    return new_df"
   ]
  },
  {
   "cell_type": "code",
   "execution_count": 72,
   "id": "a4eef25889cb8347",
   "metadata": {
    "collapsed": false,
    "ExecuteTime": {
     "end_time": "2023-10-18T18:15:10.167037Z",
     "start_time": "2023-10-18T18:15:10.154260600Z"
    }
   },
   "outputs": [
    {
     "data": {
      "text/plain": "6            Side of Chips\n7            Steak Burrito\n8         Steak Soft Tacos\n54              Steak Bowl\n92      Steak Crispy Tacos\n281       Steak Salad Bowl\n664            Steak Salad\n1414                 Salad\nName: item_name, dtype: object"
     },
     "execution_count": 72,
     "metadata": {},
     "output_type": "execute_result"
    }
   ],
   "source": [
    "items_starting_with_s(food)"
   ]
  },
  {
   "cell_type": "code",
   "execution_count": null,
   "id": "2293e3b440a8ae85",
   "metadata": {
    "collapsed": false
   },
   "outputs": [],
   "source": [
    "\"\"\"\n",
    "9. Készíts egy függvényt, ami visszaadja az első 3 oszlopot. Használd a tisztított.\n",
    "\n",
    "fv. név: first_three_columns\n",
    "bemenet: input_df\n",
    "return típus: pandas.core.frame.DataFrame\n",
    "\n",
    "\"\"\""
   ]
  },
  {
   "cell_type": "code",
   "execution_count": 41,
   "id": "a192f2eebf0bb24d",
   "metadata": {
    "collapsed": false,
    "ExecuteTime": {
     "end_time": "2023-10-18T17:46:00.369762300Z",
     "start_time": "2023-10-18T17:46:00.346449400Z"
    }
   },
   "outputs": [],
   "source": [
    "def first_three_columns(input_df):\n",
    "    input_df = change_frice_to_float(input_df)\n",
    "    return input_df.iloc[:, 0:3]"
   ]
  },
  {
   "cell_type": "code",
   "execution_count": 42,
   "id": "dc174ca46e9dea9b",
   "metadata": {
    "collapsed": false,
    "ExecuteTime": {
     "end_time": "2023-10-18T17:46:01.989428600Z",
     "start_time": "2023-10-18T17:46:01.969458800Z"
    }
   },
   "outputs": [
    {
     "data": {
      "text/plain": "      order_id  quantity                              item_name\n0            1         1           Chips and Fresh Tomato Salsa\n1            1         1                                   Izze\n2            1         1                       Nantucket Nectar\n3            1         1  Chips and Tomatillo-Green Chili Salsa\n4            2         2                           Chicken Bowl\n...        ...       ...                                    ...\n4617      1833         1                          Steak Burrito\n4618      1833         1                          Steak Burrito\n4619      1834         1                     Chicken Salad Bowl\n4620      1834         1                     Chicken Salad Bowl\n4621      1834         1                     Chicken Salad Bowl\n\n[4622 rows x 3 columns]",
      "text/html": "<div>\n<style scoped>\n    .dataframe tbody tr th:only-of-type {\n        vertical-align: middle;\n    }\n\n    .dataframe tbody tr th {\n        vertical-align: top;\n    }\n\n    .dataframe thead th {\n        text-align: right;\n    }\n</style>\n<table border=\"1\" class=\"dataframe\">\n  <thead>\n    <tr style=\"text-align: right;\">\n      <th></th>\n      <th>order_id</th>\n      <th>quantity</th>\n      <th>item_name</th>\n    </tr>\n  </thead>\n  <tbody>\n    <tr>\n      <th>0</th>\n      <td>1</td>\n      <td>1</td>\n      <td>Chips and Fresh Tomato Salsa</td>\n    </tr>\n    <tr>\n      <th>1</th>\n      <td>1</td>\n      <td>1</td>\n      <td>Izze</td>\n    </tr>\n    <tr>\n      <th>2</th>\n      <td>1</td>\n      <td>1</td>\n      <td>Nantucket Nectar</td>\n    </tr>\n    <tr>\n      <th>3</th>\n      <td>1</td>\n      <td>1</td>\n      <td>Chips and Tomatillo-Green Chili Salsa</td>\n    </tr>\n    <tr>\n      <th>4</th>\n      <td>2</td>\n      <td>2</td>\n      <td>Chicken Bowl</td>\n    </tr>\n    <tr>\n      <th>...</th>\n      <td>...</td>\n      <td>...</td>\n      <td>...</td>\n    </tr>\n    <tr>\n      <th>4617</th>\n      <td>1833</td>\n      <td>1</td>\n      <td>Steak Burrito</td>\n    </tr>\n    <tr>\n      <th>4618</th>\n      <td>1833</td>\n      <td>1</td>\n      <td>Steak Burrito</td>\n    </tr>\n    <tr>\n      <th>4619</th>\n      <td>1834</td>\n      <td>1</td>\n      <td>Chicken Salad Bowl</td>\n    </tr>\n    <tr>\n      <th>4620</th>\n      <td>1834</td>\n      <td>1</td>\n      <td>Chicken Salad Bowl</td>\n    </tr>\n    <tr>\n      <th>4621</th>\n      <td>1834</td>\n      <td>1</td>\n      <td>Chicken Salad Bowl</td>\n    </tr>\n  </tbody>\n</table>\n<p>4622 rows × 3 columns</p>\n</div>"
     },
     "execution_count": 42,
     "metadata": {},
     "output_type": "execute_result"
    }
   ],
   "source": [
    "first_three_columns(food)"
   ]
  },
  {
   "cell_type": "code",
   "execution_count": null,
   "id": "a9a68b16090a09f7",
   "metadata": {
    "collapsed": false
   },
   "outputs": [],
   "source": [
    "\"\"\"\n",
    "10. Készíts egy függvényt, ami visszaadja az összes oszlopot az utolsó 2-on kívül. Használd a tisztított adatokat.\n",
    "\n",
    "fv. név: every_column_except_last_two\n",
    "bemenet: input_df\n",
    "return típus: pandas.core.frame.DataFrame\n",
    "\n",
    "\"\"\""
   ]
  },
  {
   "cell_type": "code",
   "execution_count": 30,
   "id": "1d0754a3513e5eec",
   "metadata": {
    "collapsed": false,
    "ExecuteTime": {
     "end_time": "2023-10-18T17:32:35.970069200Z",
     "start_time": "2023-10-18T17:32:35.965169900Z"
    }
   },
   "outputs": [],
   "source": [
    "def every_column_except_last_two(input_df):\n",
    "    input_df = change_frice_to_float(input_df)\n",
    "    return input_df.iloc[:,:-2]"
   ]
  },
  {
   "cell_type": "code",
   "execution_count": 31,
   "id": "64582e56a87a8160",
   "metadata": {
    "collapsed": false,
    "ExecuteTime": {
     "end_time": "2023-10-18T17:32:43.682420300Z",
     "start_time": "2023-10-18T17:32:43.649651600Z"
    }
   },
   "outputs": [
    {
     "data": {
      "text/plain": "      order_id  quantity                              item_name\n0            1         1           Chips and Fresh Tomato Salsa\n1            1         1                                   Izze\n2            1         1                       Nantucket Nectar\n3            1         1  Chips and Tomatillo-Green Chili Salsa\n4            2         2                           Chicken Bowl\n...        ...       ...                                    ...\n4617      1833         1                          Steak Burrito\n4618      1833         1                          Steak Burrito\n4619      1834         1                     Chicken Salad Bowl\n4620      1834         1                     Chicken Salad Bowl\n4621      1834         1                     Chicken Salad Bowl\n\n[4622 rows x 3 columns]",
      "text/html": "<div>\n<style scoped>\n    .dataframe tbody tr th:only-of-type {\n        vertical-align: middle;\n    }\n\n    .dataframe tbody tr th {\n        vertical-align: top;\n    }\n\n    .dataframe thead th {\n        text-align: right;\n    }\n</style>\n<table border=\"1\" class=\"dataframe\">\n  <thead>\n    <tr style=\"text-align: right;\">\n      <th></th>\n      <th>order_id</th>\n      <th>quantity</th>\n      <th>item_name</th>\n    </tr>\n  </thead>\n  <tbody>\n    <tr>\n      <th>0</th>\n      <td>1</td>\n      <td>1</td>\n      <td>Chips and Fresh Tomato Salsa</td>\n    </tr>\n    <tr>\n      <th>1</th>\n      <td>1</td>\n      <td>1</td>\n      <td>Izze</td>\n    </tr>\n    <tr>\n      <th>2</th>\n      <td>1</td>\n      <td>1</td>\n      <td>Nantucket Nectar</td>\n    </tr>\n    <tr>\n      <th>3</th>\n      <td>1</td>\n      <td>1</td>\n      <td>Chips and Tomatillo-Green Chili Salsa</td>\n    </tr>\n    <tr>\n      <th>4</th>\n      <td>2</td>\n      <td>2</td>\n      <td>Chicken Bowl</td>\n    </tr>\n    <tr>\n      <th>...</th>\n      <td>...</td>\n      <td>...</td>\n      <td>...</td>\n    </tr>\n    <tr>\n      <th>4617</th>\n      <td>1833</td>\n      <td>1</td>\n      <td>Steak Burrito</td>\n    </tr>\n    <tr>\n      <th>4618</th>\n      <td>1833</td>\n      <td>1</td>\n      <td>Steak Burrito</td>\n    </tr>\n    <tr>\n      <th>4619</th>\n      <td>1834</td>\n      <td>1</td>\n      <td>Chicken Salad Bowl</td>\n    </tr>\n    <tr>\n      <th>4620</th>\n      <td>1834</td>\n      <td>1</td>\n      <td>Chicken Salad Bowl</td>\n    </tr>\n    <tr>\n      <th>4621</th>\n      <td>1834</td>\n      <td>1</td>\n      <td>Chicken Salad Bowl</td>\n    </tr>\n  </tbody>\n</table>\n<p>4622 rows × 3 columns</p>\n</div>"
     },
     "execution_count": 31,
     "metadata": {},
     "output_type": "execute_result"
    }
   ],
   "source": [
    "every_column_except_last_two(food)"
   ]
  },
  {
   "cell_type": "code",
   "execution_count": null,
   "id": "376c202b0fe487aa",
   "metadata": {
    "collapsed": false
   },
   "outputs": [],
   "source": [
    "\"\"\"\n",
    "11. Készíts egy függvényt, amely tetszőleges oszlopokat és sorokat ad vissza a bemeneti adatokból. A sorokat és oszlopokat listák formájában adjuk be a függvénynek. A sorokat egy bemeneti oszlop alapján szűrjük.\n",
    "\n",
    "fv. név: sliced_view\n",
    "bemenet: input_df, columns_to_keep, column_to_filter, rows_to_keep\n",
    "return type: pandas.core.frame.DataFrame\n",
    "\n",
    "\"\"\""
   ]
  },
  {
   "cell_type": "code",
   "execution_count": 32,
   "id": "3596668112e27e6",
   "metadata": {
    "collapsed": false,
    "ExecuteTime": {
     "end_time": "2023-10-18T17:34:23.322103700Z",
     "start_time": "2023-10-18T17:34:23.320505900Z"
    }
   },
   "outputs": [],
   "source": [
    "def sliced_view(input_df, columns_to_keep, column_to_filter, rows_to_keep):\n",
    "    new_df=input_df.copy()\n",
    "    return new_df.loc[[x in rows_to_keep for x in new_df[column_to_filter]], columns_to_keep]"
   ]
  },
  {
   "cell_type": "code",
   "execution_count": null,
   "id": "6e731f8b0d4c77ee",
   "metadata": {
    "collapsed": false
   },
   "outputs": [],
   "source": []
  },
  {
   "cell_type": "code",
   "execution_count": null,
   "id": "47d70863b98e7ae3",
   "metadata": {
    "collapsed": false
   },
   "outputs": [],
   "source": [
    "\"\"\"\n",
    "12. Készíts egy függvényt, ami a bemeneti adatokat kiegészíti egy 'Quartile' oszloppal. Használd a tisztított adatokat. A kvartilis oszlop értékeit az ár alapján határozza meg:\n",
    "\n",
    "30 - : 'premium'\n",
    "20 - 29.99: 'high-cost'\n",
    "10 - 19.99: 'medium-cost\n",
    "0 - 9.99: 'low-cost'\n",
    "\n",
    "fv. név: generate_quartile\n",
    "bemenet: input_df\n",
    "return type: pandas.core.frame.DataFrame\n",
    "\n",
    "\"\"\""
   ]
  },
  {
   "cell_type": "code",
   "execution_count": 73,
   "id": "21d385ae84f4114d",
   "metadata": {
    "collapsed": false,
    "ExecuteTime": {
     "end_time": "2023-10-18T18:18:16.010740200Z",
     "start_time": "2023-10-18T18:18:16.010235900Z"
    }
   },
   "outputs": [],
   "source": [
    "def generate_quartile(input_df):\n",
    "    input_df = change_price_to_float(input_df)\n",
    "    arak = list(input_df['item_price'])\n",
    "    kvartilis = []\n",
    "    for i in arak:\n",
    "        if i > 29.99:\n",
    "            kvartilis.append('premium')\n",
    "        elif i > 19.99 and i < 30.00:\n",
    "            kvartilis.append('high-cost')\n",
    "        elif i > 9.99 and i < 20.00:\n",
    "            kvartilis.append('medium-cost')\n",
    "        else:\n",
    "            kvartilis.append('low-cost')\n",
    "    input_df['Quartile'] = kvartilis\n",
    "    return input_df"
   ]
  },
  {
   "cell_type": "code",
   "execution_count": 74,
   "id": "3ad4b27111f25648",
   "metadata": {
    "collapsed": false,
    "ExecuteTime": {
     "end_time": "2023-10-18T18:18:17.787669900Z",
     "start_time": "2023-10-18T18:18:17.753801100Z"
    }
   },
   "outputs": [
    {
     "ename": "NameError",
     "evalue": "name 'change_price_to_float' is not defined",
     "output_type": "error",
     "traceback": [
      "\u001B[1;31m---------------------------------------------------------------------------\u001B[0m",
      "\u001B[1;31mNameError\u001B[0m                                 Traceback (most recent call last)",
      "Cell \u001B[1;32mIn[74], line 1\u001B[0m\n\u001B[1;32m----> 1\u001B[0m \u001B[43mgenerate_quartile\u001B[49m\u001B[43m(\u001B[49m\u001B[43mfood\u001B[49m\u001B[43m)\u001B[49m\n",
      "Cell \u001B[1;32mIn[73], line 2\u001B[0m, in \u001B[0;36mgenerate_quartile\u001B[1;34m(input_df)\u001B[0m\n\u001B[0;32m      1\u001B[0m \u001B[38;5;28;01mdef\u001B[39;00m \u001B[38;5;21mgenerate_quartile\u001B[39m(input_df):\n\u001B[1;32m----> 2\u001B[0m     input_df \u001B[38;5;241m=\u001B[39m \u001B[43mchange_price_to_float\u001B[49m(input_df)\n\u001B[0;32m      3\u001B[0m     arak \u001B[38;5;241m=\u001B[39m \u001B[38;5;28mlist\u001B[39m(input_df[\u001B[38;5;124m'\u001B[39m\u001B[38;5;124mitem_price\u001B[39m\u001B[38;5;124m'\u001B[39m])\n\u001B[0;32m      4\u001B[0m     kvartilis \u001B[38;5;241m=\u001B[39m []\n",
      "\u001B[1;31mNameError\u001B[0m: name 'change_price_to_float' is not defined"
     ]
    }
   ],
   "source": [
    "generate_quartile(food)"
   ]
  },
  {
   "cell_type": "code",
   "execution_count": null,
   "id": "bb70c884473a7679",
   "metadata": {
    "collapsed": false
   },
   "outputs": [],
   "source": [
    "\"\"\"\n",
    "13., Készíts egy függvényt, ami minden kvartilis értékhez kiszámítja, az átlagos árat. Használd az előző feladat eredményét bemenetként.\n",
    "\n",
    "fn név: average_price_in_quartiles\n",
    "bemenet: input_df\n",
    "return type: pandas.core.frame.DataFrame\n",
    "\n",
    "\"\"\""
   ]
  },
  {
   "cell_type": "code",
   "execution_count": 47,
   "id": "dad25f20c5ac3ec6",
   "metadata": {
    "collapsed": false,
    "ExecuteTime": {
     "end_time": "2023-10-18T17:47:53.400675100Z",
     "start_time": "2023-10-18T17:47:53.376508500Z"
    }
   },
   "outputs": [],
   "source": [
    "def average_price_in_quartiles(input_df):\n",
    "    input_df= generate_quartile(input_df)\n",
    "    return input_df.groupby('Quartile')['item_price'].mean()"
   ]
  },
  {
   "cell_type": "code",
   "execution_count": 48,
   "id": "8a8aa5257e5e9f81",
   "metadata": {
    "collapsed": false,
    "ExecuteTime": {
     "end_time": "2023-10-18T17:47:55.218748900Z",
     "start_time": "2023-10-18T17:47:55.202069400Z"
    }
   },
   "outputs": [
    {
     "data": {
      "text/plain": "Quartile\nhigh-cost      23.181951\nlow-cost        5.869593\nmedium-cost    11.853084\npremium        36.031667\nName: item_price, dtype: float64"
     },
     "execution_count": 48,
     "metadata": {},
     "output_type": "execute_result"
    }
   ],
   "source": [
    "average_price_in_quartiles(food)"
   ]
  },
  {
   "cell_type": "code",
   "execution_count": null,
   "id": "1fa60ba13b667576",
   "metadata": {
    "collapsed": false
   },
   "outputs": [],
   "source": [
    "\"\"\"\n",
    "14., Készíts egy függvényt ami minden kvartilis esetén visszadja az árak minimális és maximális értékét, valamint az átlagát.\n",
    "\n",
    "fv. név: minmaxmean_price_in_quartile\n",
    "bemenet: input_df\n",
    "return type: pandas.core.frame.DataFrame\n",
    "\"\"\""
   ]
  },
  {
   "cell_type": "code",
   "execution_count": null,
   "id": "a4166f92696d8f3c",
   "metadata": {
    "collapsed": false
   },
   "outputs": [],
   "source": [
    "def minmaxmean_price_in_quartile(input_df):\n",
    "    grouped = input_df.groupby('Quartile')\n",
    "    minmaxmean_values = grouped['item_price'].agg(['min', 'max','mean'])\n",
    "    return minmaxmean_values"
   ]
  },
  {
   "cell_type": "code",
   "execution_count": null,
   "id": "accb935cb089b427",
   "metadata": {
    "collapsed": false
   },
   "outputs": [],
   "source": []
  },
  {
   "cell_type": "code",
   "execution_count": null,
   "id": "10b9f08f28204e28",
   "metadata": {
    "collapsed": false
   },
   "outputs": [],
   "source": [
    "\"\"\"\n",
    "15. Készíts egy függvényt, ami létrehoz egy listát, benne number_of_trajectories db listával. A belső listák létrehozásának logikája a következő:\n",
    "    A bemeneti paraméterként kapott distribution osztály felhasználásával (UniformDistribution 0,1 paraméterekkel) generálj length_of_trajectory véletlen számot\n",
    "    A belső lista tartalmazza a generált számok kumulatív átlagát.\n",
    "    Ismételd meg number_of_trajectories alkalommal (mindegyik belső listába egyszer)\n",
    "    A seed értéke legyen 42.\n",
    "\n",
    "függvény bemenete: distribution, number_of_trajectories, length_of_trajectory\n",
    "kimeneti típus: List    \n",
    "függvény neve: gen_uniform_mean_trajectories\n",
    "\"\"\""
   ]
  },
  {
   "cell_type": "code",
   "execution_count": null,
   "id": "47062ae9a2ba3c0d",
   "metadata": {
    "collapsed": false
   },
   "outputs": [],
   "source": [
    "import random\n",
    "import src.weekly.weekly_test_5 as wt\n",
    "from src.utils.distributions import UniformDistribution, LogisticDistribution, CauchyDistribution, \\\n",
    "    ChiSquaredDistribution\n",
    "from src.weekly.weekly_test_2 import LaplaceDistribution\n",
    "uniform = UniformDistribution(random, 0, 1)\n",
    "def gen_uniform_mean_trajectories(uniform_distribution, number_of_trajectories, length_of_trajectory):\n",
    "    random.seed(42)\n",
    "    trajectories = []\n",
    "\n",
    "    for _ in range(number_of_trajectories):\n",
    "\n",
    "        mean_trajectory = []\n",
    "        trajectory = []\n",
    "        for i in range(length_of_trajectory):\n",
    "            trajectory.append(uniform_distribution.gen_rand())\n",
    "            mean_trajectory.append(sum(trajectory) / (i + 1))\n",
    "\n",
    "        trajectories.append(mean_trajectory)\n",
    "\n",
    "    return trajectories"
   ]
  },
  {
   "cell_type": "code",
   "execution_count": null,
   "id": "c1b1f595c241254b",
   "metadata": {
    "collapsed": false
   },
   "outputs": [],
   "source": []
  },
  {
   "cell_type": "code",
   "execution_count": null,
   "id": "3857db99deaa3a1a",
   "metadata": {
    "collapsed": false
   },
   "outputs": [],
   "source": [
    "\"\"\"\n",
    "16. Készíts egy függvényt, ami létrehoz egy listát, benne number_of_trajectories db listával. A belső listák létrehozásának logikája a következő:\n",
    "    A bemeneti paraméterként kapott distribution osztály felhasználásával (LogisticDistribution 1, 3.3 paraméterekkel) generálj length_of_trajectory véletlen számot\n",
    "    A belső lista tartalmazza a generált számok kumulatív átlagát.\n",
    "    Ismételd meg number_of_trajectories alkalommal (mindegyik belső listába egyszer)\n",
    "    A seed értéke legyen 42.\n",
    "\n",
    "függvény bemenete: distribution, number_of_trajectories, length_of_trajectory\n",
    "kimeneti típus: List    \n",
    "függvény neve: gen_logistic_mean_trajectories\n",
    "\"\"\""
   ]
  },
  {
   "cell_type": "code",
   "execution_count": null,
   "outputs": [],
   "source": [
    "import random\n",
    "import src.weekly.weekly_test_5 as wt\n",
    "from src.utils.distributions import UniformDistribution, LogisticDistribution, CauchyDistribution, \\\n",
    "    ChiSquaredDistribution\n",
    "from src.weekly.weekly_test_2 import LaplaceDistribution\n",
    "logistic = LogisticDistribution(random, 1, 3.3)\n",
    "def gen_logistic_mean_trajectories(logistic_distribution, number_of_trajectories, length_of_trajectory):\n",
    "    random.seed(42)\n",
    "    trajectories = []\n",
    "\n",
    "    for _ in range(number_of_trajectories):\n",
    "\n",
    "        mean_trajectory = []\n",
    "        trajectory = []\n",
    "        for i in range(length_of_trajectory):\n",
    "            trajectory.append(logistic_distribution.gen_rand())\n",
    "            mean_trajectory.append(sum(trajectory) / (i + 1))\n",
    "\n",
    "        trajectories.append(mean_trajectory)\n",
    "\n",
    "    return trajectories"
   ],
   "metadata": {
    "collapsed": false
   },
   "id": "7abb690a4366a416"
  },
  {
   "cell_type": "code",
   "execution_count": null,
   "outputs": [],
   "source": [],
   "metadata": {
    "collapsed": false
   },
   "id": "9ef153c86975f584"
  },
  {
   "cell_type": "code",
   "execution_count": null,
   "outputs": [],
   "source": [
    "\"\"\"\n",
    "17. Készíts egy függvényt, ami létrehoz egy listát, benne number_of_trajectories db listával. A belső listák létrehozásának logikája a következő:\n",
    "    A bemeneti paraméterként kapott distribution osztály felhasználásával (LaplaceDistribution 1, 3.3 paraméterekkel) generálj length_of_trajectory véletlen számot\n",
    "    A belső lista tartalmazza a generált számok kumulatív átlagát.\n",
    "    Ismételd meg number_of_trajectories alkalommal (mindegyik belső listába egyszer)\n",
    "    A seed értéke legyen 42.\n",
    "\n",
    "függvény bemenete: distribution, number_of_trajectories, length_of_trajectory\n",
    "kimeneti típus: List    \n",
    "függvény neve: gen_laplace_mean_trajectories\n",
    "\"\"\""
   ],
   "metadata": {
    "collapsed": false
   },
   "id": "4a0a34d82f78f1f7"
  },
  {
   "cell_type": "code",
   "execution_count": null,
   "outputs": [],
   "source": [
    "import random\n",
    "import src.weekly.weekly_test_5 as wt\n",
    "from src.utils.distributions import UniformDistribution, LogisticDistribution, CauchyDistribution, \\\n",
    "    ChiSquaredDistribution\n",
    "from src.weekly.weekly_test_2 import LaplaceDistribution\n",
    "laplace = LogisticDistribution(random, 1, 3.3)\n",
    "def gen_laplace_mean_trajectories(laplace_distribution, number_of_trajectories, length_of_trajectory):\n",
    "    random.seed(42)\n",
    "    trajectories = []\n",
    "\n",
    "    for _ in range(number_of_trajectories):\n",
    "\n",
    "        mean_trajectory = []\n",
    "        trajectory = []\n",
    "        for i in range(length_of_trajectory):\n",
    "            trajectory.append(laplace_distribution.gen_rand())\n",
    "            mean_trajectory.append(sum(trajectory) / (i + 1))\n",
    "\n",
    "        trajectories.append(mean_trajectory)\n",
    "\n",
    "    return trajectories"
   ],
   "metadata": {
    "collapsed": false
   },
   "id": "a77e96e5081b079b"
  },
  {
   "cell_type": "code",
   "execution_count": null,
   "outputs": [],
   "source": [],
   "metadata": {
    "collapsed": false
   },
   "id": "3846a1c67739b3ce"
  },
  {
   "cell_type": "code",
   "execution_count": null,
   "outputs": [],
   "source": [
    "\"\"\"\n",
    "18. Készíts egy függvényt, ami létrehoz egy listát, benne number_of_trajectories db listával. A belső listák létrehozásának logikája a következő:\n",
    "    A bemeneti paraméterként kapott distribution osztály felhasználásával (CauchyDistribution 2,4 paraméterekkel) generálj length_of_trajectory véletlen számot\n",
    "    A belső lista tartalmazza a generált számok kumulatív átlagát.\n",
    "    Ismételd meg number_of_trajectories alkalommal (mindegyik belső listába egyszer)\n",
    "    A seed értéke legyen 42.\n",
    "\n",
    "függvény bemenete: distribution, number_of_trajectories, length_of_trajectory\n",
    "kimeneti típus: List    \n",
    "függvény neve: gen_cauchy_mean_trajectories\n",
    "\"\"\""
   ],
   "metadata": {
    "collapsed": false
   },
   "id": "4eac338e5ed7e03b"
  },
  {
   "cell_type": "code",
   "execution_count": null,
   "outputs": [],
   "source": [
    "import random\n",
    "import src.weekly.weekly_test_5 as wt\n",
    "from src.utils.distributions import UniformDistribution, LogisticDistribution, CauchyDistribution, \\\n",
    "    ChiSquaredDistribution\n",
    "from src.weekly.weekly_test_2 import LaplaceDistribution\n",
    "\n",
    "def gen_cauchy_mean_trajectories(cauchy_distribution, number_of_trajectories, length_of_trajectory):\n",
    "    random.seed(42)\n",
    "    trajectories = []\n",
    "\n",
    "    for _ in range(number_of_trajectories):\n",
    "\n",
    "        mean_trajectory = []\n",
    "        trajectory = []\n",
    "        for i in range(length_of_trajectory):\n",
    "            trajectory.append(cauchy_distribution.gen_rand())\n",
    "            mean_trajectory.append(sum(trajectory) / (i + 1))\n",
    "\n",
    "        trajectories.append(mean_trajectory)\n",
    "\n",
    "    return trajectories"
   ],
   "metadata": {
    "collapsed": false
   },
   "id": "46ed1c9a25c56aec"
  },
  {
   "cell_type": "code",
   "execution_count": null,
   "outputs": [],
   "source": [],
   "metadata": {
    "collapsed": false
   },
   "id": "c9c118d43729fc7a"
  },
  {
   "cell_type": "code",
   "execution_count": null,
   "outputs": [],
   "source": [
    "\"\"\"\n",
    "19. Készíts egy függvényt, ami létrehoz egy listát, benne number_of_trajectories db listával. A belső listák létrehozásának logikája a következő:\n",
    "    A bemeneti paraméterként kapott distribution osztály felhasználásával (ChiSquaredDistribution 3 paraméterrel) generálj length_of_trajectory véletlen számot\n",
    "    A belső lista tartalmazza a generált számok kumulatív átlagát.\n",
    "    Ismételd meg number_of_trajectories alkalommal (mindegyik belső listába egyszer)\n",
    "    A seed értéke legyen 42.\n",
    "\n",
    "függvény bemenete: distribution, number_of_trajectories, length_of_trajectory\n",
    "kimeneti típus: List    \n",
    "függvény neve: gen_chi2_mean_trajectories\n",
    "\"\"\""
   ],
   "metadata": {
    "collapsed": false
   },
   "id": "a506ece2fa8329f2"
  },
  {
   "cell_type": "code",
   "execution_count": 57,
   "outputs": [],
   "source": [
    "import random\n",
    "import src.weekly.weekly_test_5 as wt\n",
    "from src.utils.distributions import UniformDistribution, LogisticDistribution, CauchyDistribution, \\\n",
    "    ChiSquaredDistribution\n",
    "from src.weekly.weekly_test_2 import LaplaceDistribution\n",
    "\n",
    "def gen_chi2_mean_trajectories(chisquared_distribution, number_of_trajectories, length_of_trajectory):\n",
    "    random.seed(42)\n",
    "    trajectories = []\n",
    "\n",
    "    for _ in range(number_of_trajectories):\n",
    "\n",
    "        mean_trajectory = []\n",
    "        trajectory = []\n",
    "        for i in range(length_of_trajectory):\n",
    "            trajectory.append(chisquared_distribution.gen_rand())\n",
    "            mean_trajectory.append(sum(trajectory) / (i + 1))\n",
    "\n",
    "        trajectories.append(mean_trajectory)\n",
    "\n",
    "    return trajectories"
   ],
   "metadata": {
    "collapsed": false,
    "ExecuteTime": {
     "end_time": "2023-10-18T17:59:39.360156Z",
     "start_time": "2023-10-18T17:59:39.340153700Z"
    }
   },
   "id": "7571d5df9c5435c"
  }
 ],
 "metadata": {
  "kernelspec": {
   "display_name": "Python 3 (ipykernel)",
   "language": "python",
   "name": "python3"
  },
  "language_info": {
   "codemirror_mode": {
    "name": "ipython",
    "version": 3
   },
   "file_extension": ".py",
   "mimetype": "text/x-python",
   "name": "python",
   "nbconvert_exporter": "python",
   "pygments_lexer": "ipython3",
   "version": "3.10.4"
  }
 },
 "nbformat": 4,
 "nbformat_minor": 5
}
