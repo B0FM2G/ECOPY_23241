{
 "cells": [
  {
   "cell_type": "markdown",
   "id": "de9d9737616514b8",
   "metadata": {
    "collapsed": false
   },
   "source": [
    "## Az eredményeket mentsd a src/weekly modul-ba weekly_test_6.py néven"
   ]
  },
  {
   "cell_type": "markdown",
   "id": "a9789db8f0fbd7ec",
   "metadata": {
    "collapsed": false
   },
   "source": [
    "#### Használható modulok: pathlib, pandas, typing, str, statsmodels"
   ]
  },
  {
   "cell_type": "code",
   "execution_count": 2,
   "id": "dfea6e648868022e",
   "metadata": {
    "collapsed": false,
    "ExecuteTime": {
     "end_time": "2023-10-25T17:19:06.994652900Z",
     "start_time": "2023-10-25T17:19:06.986598300Z"
    }
   },
   "outputs": [],
   "source": [
    "from pathlib import Path"
   ]
  },
  {
   "cell_type": "code",
   "execution_count": 8,
   "outputs": [
    {
     "ename": "SyntaxError",
     "evalue": "invalid syntax (2379069650.py, line 2)",
     "output_type": "error",
     "traceback": [
      "\u001B[1;36m  Cell \u001B[1;32mIn[8], line 2\u001B[1;36m\u001B[0m\n\u001B[1;33m    conda install fastparquet\u001B[0m\n\u001B[1;37m          ^\u001B[0m\n\u001B[1;31mSyntaxError\u001B[0m\u001B[1;31m:\u001B[0m invalid syntax\n"
     ]
    }
   ],
   "source": [
    "datalib = Path.cwd().parent.joinpath('data')"
   ],
   "metadata": {
    "collapsed": false,
    "ExecuteTime": {
     "end_time": "2023-10-25T17:21:16.259078500Z",
     "start_time": "2023-10-25T17:21:16.245045200Z"
    }
   },
   "id": "b0b5dd4685315eda"
  },
  {
   "cell_type": "code",
   "execution_count": null,
   "id": "9d26aec7b4e97407",
   "metadata": {
    "collapsed": false
   },
   "outputs": [],
   "source": [
    "\"\"\"\n",
    "1., Olvasd be a data mappa sp500.parquet nevű fájlját egy DataFrame-be. A betöltéshez használt engine paramétere legyen fastparquet\n",
    "\"\"\""
   ]
  },
  {
   "cell_type": "code",
   "execution_count": 11,
   "outputs": [
    {
     "data": {
      "text/plain": "           Symbol  Monthly Returns\nDate                              \n2000-02-29      A         0.569405\n2000-03-31      A         0.001203\n2000-05-31      A        -0.169252\n2000-06-30      A         0.001698\n2000-07-31      A        -0.447458\n...           ...              ...\n2022-06-30    ZTS         0.005616\n2022-08-31    ZTS        -0.142536\n2022-09-30    ZTS        -0.052642\n2022-10-31    ZTS         0.018952\n2022-11-30    ZTS         0.022284\n\n[86611 rows x 2 columns]",
      "text/html": "<div>\n<style scoped>\n    .dataframe tbody tr th:only-of-type {\n        vertical-align: middle;\n    }\n\n    .dataframe tbody tr th {\n        vertical-align: top;\n    }\n\n    .dataframe thead th {\n        text-align: right;\n    }\n</style>\n<table border=\"1\" class=\"dataframe\">\n  <thead>\n    <tr style=\"text-align: right;\">\n      <th></th>\n      <th>Symbol</th>\n      <th>Monthly Returns</th>\n    </tr>\n    <tr>\n      <th>Date</th>\n      <th></th>\n      <th></th>\n    </tr>\n  </thead>\n  <tbody>\n    <tr>\n      <th>2000-02-29</th>\n      <td>A</td>\n      <td>0.569405</td>\n    </tr>\n    <tr>\n      <th>2000-03-31</th>\n      <td>A</td>\n      <td>0.001203</td>\n    </tr>\n    <tr>\n      <th>2000-05-31</th>\n      <td>A</td>\n      <td>-0.169252</td>\n    </tr>\n    <tr>\n      <th>2000-06-30</th>\n      <td>A</td>\n      <td>0.001698</td>\n    </tr>\n    <tr>\n      <th>2000-07-31</th>\n      <td>A</td>\n      <td>-0.447458</td>\n    </tr>\n    <tr>\n      <th>...</th>\n      <td>...</td>\n      <td>...</td>\n    </tr>\n    <tr>\n      <th>2022-06-30</th>\n      <td>ZTS</td>\n      <td>0.005616</td>\n    </tr>\n    <tr>\n      <th>2022-08-31</th>\n      <td>ZTS</td>\n      <td>-0.142536</td>\n    </tr>\n    <tr>\n      <th>2022-09-30</th>\n      <td>ZTS</td>\n      <td>-0.052642</td>\n    </tr>\n    <tr>\n      <th>2022-10-31</th>\n      <td>ZTS</td>\n      <td>0.018952</td>\n    </tr>\n    <tr>\n      <th>2022-11-30</th>\n      <td>ZTS</td>\n      <td>0.022284</td>\n    </tr>\n  </tbody>\n</table>\n<p>86611 rows × 2 columns</p>\n</div>"
     },
     "execution_count": 11,
     "metadata": {},
     "output_type": "execute_result"
    }
   ],
   "source": [
    "import pandas as pd\n",
    "data = pd.read_parquet('../data/sp500.parquet', engine='fastparquet')\n",
    "data"
   ],
   "metadata": {
    "collapsed": false,
    "ExecuteTime": {
     "end_time": "2023-10-25T17:22:17.806147800Z",
     "start_time": "2023-10-25T17:22:17.743383400Z"
    }
   },
   "id": "43f685fc4780d23a"
  },
  {
   "cell_type": "code",
   "execution_count": null,
   "outputs": [],
   "source": [
    "\"\"\"\n",
    "2., Olvasd be az ff_factors.parquet fájlt egy DataFrame-be. A betöltéshez használt engine paramétere legyen fastparquet\n",
    "\"\"\""
   ],
   "metadata": {
    "collapsed": false
   },
   "id": "d42ee754b557dcef"
  },
  {
   "cell_type": "code",
   "execution_count": 12,
   "outputs": [
    {
     "data": {
      "text/plain": "            Mkt-RF     SMB     HML     RF\nDate                                     \n1926-07-31  0.0296 -0.0256 -0.0243  0.022\n1926-08-31  0.0264 -0.0117  0.0382  0.025\n1926-09-30  0.0036 -0.0140  0.0013  0.023\n1926-10-31 -0.0324 -0.0009  0.0070  0.032\n1926-11-30  0.0253 -0.0010 -0.0051  0.031\n...            ...     ...     ...    ...\n2023-03-31  0.0251 -0.0551 -0.0885  0.036\n2023-04-30  0.0061 -0.0335 -0.0004  0.035\n2023-05-31  0.0035  0.0161 -0.0772  0.036\n2023-06-30  0.0646  0.0154 -0.0026  0.040\n2023-07-31  0.0321  0.0207  0.0413  0.045\n\n[1165 rows x 4 columns]",
      "text/html": "<div>\n<style scoped>\n    .dataframe tbody tr th:only-of-type {\n        vertical-align: middle;\n    }\n\n    .dataframe tbody tr th {\n        vertical-align: top;\n    }\n\n    .dataframe thead th {\n        text-align: right;\n    }\n</style>\n<table border=\"1\" class=\"dataframe\">\n  <thead>\n    <tr style=\"text-align: right;\">\n      <th></th>\n      <th>Mkt-RF</th>\n      <th>SMB</th>\n      <th>HML</th>\n      <th>RF</th>\n    </tr>\n    <tr>\n      <th>Date</th>\n      <th></th>\n      <th></th>\n      <th></th>\n      <th></th>\n    </tr>\n  </thead>\n  <tbody>\n    <tr>\n      <th>1926-07-31</th>\n      <td>0.0296</td>\n      <td>-0.0256</td>\n      <td>-0.0243</td>\n      <td>0.022</td>\n    </tr>\n    <tr>\n      <th>1926-08-31</th>\n      <td>0.0264</td>\n      <td>-0.0117</td>\n      <td>0.0382</td>\n      <td>0.025</td>\n    </tr>\n    <tr>\n      <th>1926-09-30</th>\n      <td>0.0036</td>\n      <td>-0.0140</td>\n      <td>0.0013</td>\n      <td>0.023</td>\n    </tr>\n    <tr>\n      <th>1926-10-31</th>\n      <td>-0.0324</td>\n      <td>-0.0009</td>\n      <td>0.0070</td>\n      <td>0.032</td>\n    </tr>\n    <tr>\n      <th>1926-11-30</th>\n      <td>0.0253</td>\n      <td>-0.0010</td>\n      <td>-0.0051</td>\n      <td>0.031</td>\n    </tr>\n    <tr>\n      <th>...</th>\n      <td>...</td>\n      <td>...</td>\n      <td>...</td>\n      <td>...</td>\n    </tr>\n    <tr>\n      <th>2023-03-31</th>\n      <td>0.0251</td>\n      <td>-0.0551</td>\n      <td>-0.0885</td>\n      <td>0.036</td>\n    </tr>\n    <tr>\n      <th>2023-04-30</th>\n      <td>0.0061</td>\n      <td>-0.0335</td>\n      <td>-0.0004</td>\n      <td>0.035</td>\n    </tr>\n    <tr>\n      <th>2023-05-31</th>\n      <td>0.0035</td>\n      <td>0.0161</td>\n      <td>-0.0772</td>\n      <td>0.036</td>\n    </tr>\n    <tr>\n      <th>2023-06-30</th>\n      <td>0.0646</td>\n      <td>0.0154</td>\n      <td>-0.0026</td>\n      <td>0.040</td>\n    </tr>\n    <tr>\n      <th>2023-07-31</th>\n      <td>0.0321</td>\n      <td>0.0207</td>\n      <td>0.0413</td>\n      <td>0.045</td>\n    </tr>\n  </tbody>\n</table>\n<p>1165 rows × 4 columns</p>\n</div>"
     },
     "execution_count": 12,
     "metadata": {},
     "output_type": "execute_result"
    }
   ],
   "source": [
    "data2 = pd.read_parquet('../data/ff_factors.parquet', engine='fastparquet')\n",
    "data2"
   ],
   "metadata": {
    "collapsed": false,
    "ExecuteTime": {
     "end_time": "2023-10-25T17:22:22.752226700Z",
     "start_time": "2023-10-25T17:22:22.652533100Z"
    }
   },
   "id": "c757103536fa82f7"
  },
  {
   "cell_type": "code",
   "execution_count": null,
   "id": "b79c977da040d844",
   "metadata": {
    "collapsed": false
   },
   "outputs": [],
   "source": [
    "\"\"\"\n",
    "3., Kapcsold össze a két DataFrame-t egy új DataFrame-be. Az összekapcsolás módja, hogy a hozam adatokra balról kapcsoljuk rá a factor adatokat a 'Date' elsődleges kulcs alapján.\n",
    "\"\"\""
   ]
  },
  {
   "cell_type": "markdown",
   "source": [
    "![Joined data](../resources/weekly6/joined_data.jpg)"
   ],
   "metadata": {
    "collapsed": false
   },
   "id": "cf54c6765186a23e"
  },
  {
   "cell_type": "code",
   "execution_count": 14,
   "outputs": [
    {
     "data": {
      "text/plain": "           Symbol  Monthly Returns  Mkt-RF     SMB     HML     RF\nDate                                                             \n2000-02-29      A         0.569405  0.0245  0.2136 -0.0959  0.043\n2000-03-31      A         0.001203  0.0520 -0.1720  0.0813  0.047\n2000-05-31      A        -0.169252 -0.0442 -0.0605  0.0475  0.050\n2000-06-30      A         0.001698  0.0464  0.1284 -0.0842  0.040\n2000-07-31      A        -0.447458 -0.0251 -0.0307  0.0831  0.048\n...           ...              ...     ...     ...     ...    ...\n2022-06-30    ZTS         0.005616 -0.0843  0.0210 -0.0597  0.006\n2022-08-31    ZTS        -0.142536 -0.0377  0.0140  0.0029  0.019\n2022-09-30    ZTS        -0.052642 -0.0935 -0.0081  0.0005  0.019\n2022-10-31    ZTS         0.018952  0.0783  0.0006  0.0801  0.023\n2022-11-30    ZTS         0.022284  0.0460 -0.0352  0.0138  0.029\n\n[86611 rows x 6 columns]",
      "text/html": "<div>\n<style scoped>\n    .dataframe tbody tr th:only-of-type {\n        vertical-align: middle;\n    }\n\n    .dataframe tbody tr th {\n        vertical-align: top;\n    }\n\n    .dataframe thead th {\n        text-align: right;\n    }\n</style>\n<table border=\"1\" class=\"dataframe\">\n  <thead>\n    <tr style=\"text-align: right;\">\n      <th></th>\n      <th>Symbol</th>\n      <th>Monthly Returns</th>\n      <th>Mkt-RF</th>\n      <th>SMB</th>\n      <th>HML</th>\n      <th>RF</th>\n    </tr>\n    <tr>\n      <th>Date</th>\n      <th></th>\n      <th></th>\n      <th></th>\n      <th></th>\n      <th></th>\n      <th></th>\n    </tr>\n  </thead>\n  <tbody>\n    <tr>\n      <th>2000-02-29</th>\n      <td>A</td>\n      <td>0.569405</td>\n      <td>0.0245</td>\n      <td>0.2136</td>\n      <td>-0.0959</td>\n      <td>0.043</td>\n    </tr>\n    <tr>\n      <th>2000-03-31</th>\n      <td>A</td>\n      <td>0.001203</td>\n      <td>0.0520</td>\n      <td>-0.1720</td>\n      <td>0.0813</td>\n      <td>0.047</td>\n    </tr>\n    <tr>\n      <th>2000-05-31</th>\n      <td>A</td>\n      <td>-0.169252</td>\n      <td>-0.0442</td>\n      <td>-0.0605</td>\n      <td>0.0475</td>\n      <td>0.050</td>\n    </tr>\n    <tr>\n      <th>2000-06-30</th>\n      <td>A</td>\n      <td>0.001698</td>\n      <td>0.0464</td>\n      <td>0.1284</td>\n      <td>-0.0842</td>\n      <td>0.040</td>\n    </tr>\n    <tr>\n      <th>2000-07-31</th>\n      <td>A</td>\n      <td>-0.447458</td>\n      <td>-0.0251</td>\n      <td>-0.0307</td>\n      <td>0.0831</td>\n      <td>0.048</td>\n    </tr>\n    <tr>\n      <th>...</th>\n      <td>...</td>\n      <td>...</td>\n      <td>...</td>\n      <td>...</td>\n      <td>...</td>\n      <td>...</td>\n    </tr>\n    <tr>\n      <th>2022-06-30</th>\n      <td>ZTS</td>\n      <td>0.005616</td>\n      <td>-0.0843</td>\n      <td>0.0210</td>\n      <td>-0.0597</td>\n      <td>0.006</td>\n    </tr>\n    <tr>\n      <th>2022-08-31</th>\n      <td>ZTS</td>\n      <td>-0.142536</td>\n      <td>-0.0377</td>\n      <td>0.0140</td>\n      <td>0.0029</td>\n      <td>0.019</td>\n    </tr>\n    <tr>\n      <th>2022-09-30</th>\n      <td>ZTS</td>\n      <td>-0.052642</td>\n      <td>-0.0935</td>\n      <td>-0.0081</td>\n      <td>0.0005</td>\n      <td>0.019</td>\n    </tr>\n    <tr>\n      <th>2022-10-31</th>\n      <td>ZTS</td>\n      <td>0.018952</td>\n      <td>0.0783</td>\n      <td>0.0006</td>\n      <td>0.0801</td>\n      <td>0.023</td>\n    </tr>\n    <tr>\n      <th>2022-11-30</th>\n      <td>ZTS</td>\n      <td>0.022284</td>\n      <td>0.0460</td>\n      <td>-0.0352</td>\n      <td>0.0138</td>\n      <td>0.029</td>\n    </tr>\n  </tbody>\n</table>\n<p>86611 rows × 6 columns</p>\n</div>"
     },
     "execution_count": 14,
     "metadata": {},
     "output_type": "execute_result"
    }
   ],
   "source": [
    "merged = data.merge(data2, on='Date', how='left')\n",
    "merged"
   ],
   "metadata": {
    "collapsed": false,
    "ExecuteTime": {
     "end_time": "2023-10-25T17:23:23.626985600Z",
     "start_time": "2023-10-25T17:23:23.582923600Z"
    }
   },
   "id": "34bc40351687c32"
  },
  {
   "cell_type": "code",
   "execution_count": null,
   "id": "dd10fafbf699543d",
   "metadata": {
    "collapsed": false
   },
   "outputs": [],
   "source": [
    "\"\"\"\n",
    "4., Készíts egy új 'Excess Return' nevű oszlopot, ami a havi hozamok és a kockázat mentes hozam (RF) különbsége\n",
    "\"\"\""
   ]
  },
  {
   "cell_type": "code",
   "execution_count": 16,
   "outputs": [
    {
     "data": {
      "text/plain": "           Symbol  Monthly Returns  Mkt-RF     SMB     HML     RF  \\\nDate                                                                \n2000-02-29      A         0.569405  0.0245  0.2136 -0.0959  0.043   \n2000-03-31      A         0.001203  0.0520 -0.1720  0.0813  0.047   \n2000-05-31      A        -0.169252 -0.0442 -0.0605  0.0475  0.050   \n2000-06-30      A         0.001698  0.0464  0.1284 -0.0842  0.040   \n2000-07-31      A        -0.447458 -0.0251 -0.0307  0.0831  0.048   \n...           ...              ...     ...     ...     ...    ...   \n2022-06-30    ZTS         0.005616 -0.0843  0.0210 -0.0597  0.006   \n2022-08-31    ZTS        -0.142536 -0.0377  0.0140  0.0029  0.019   \n2022-09-30    ZTS        -0.052642 -0.0935 -0.0081  0.0005  0.019   \n2022-10-31    ZTS         0.018952  0.0783  0.0006  0.0801  0.023   \n2022-11-30    ZTS         0.022284  0.0460 -0.0352  0.0138  0.029   \n\n            Excess Return  \nDate                       \n2000-02-29       0.526405  \n2000-03-31      -0.045797  \n2000-05-31      -0.219252  \n2000-06-30      -0.038302  \n2000-07-31      -0.495458  \n...                   ...  \n2022-06-30      -0.000384  \n2022-08-31      -0.161536  \n2022-09-30      -0.071642  \n2022-10-31      -0.004048  \n2022-11-30      -0.006716  \n\n[86611 rows x 7 columns]",
      "text/html": "<div>\n<style scoped>\n    .dataframe tbody tr th:only-of-type {\n        vertical-align: middle;\n    }\n\n    .dataframe tbody tr th {\n        vertical-align: top;\n    }\n\n    .dataframe thead th {\n        text-align: right;\n    }\n</style>\n<table border=\"1\" class=\"dataframe\">\n  <thead>\n    <tr style=\"text-align: right;\">\n      <th></th>\n      <th>Symbol</th>\n      <th>Monthly Returns</th>\n      <th>Mkt-RF</th>\n      <th>SMB</th>\n      <th>HML</th>\n      <th>RF</th>\n      <th>Excess Return</th>\n    </tr>\n    <tr>\n      <th>Date</th>\n      <th></th>\n      <th></th>\n      <th></th>\n      <th></th>\n      <th></th>\n      <th></th>\n      <th></th>\n    </tr>\n  </thead>\n  <tbody>\n    <tr>\n      <th>2000-02-29</th>\n      <td>A</td>\n      <td>0.569405</td>\n      <td>0.0245</td>\n      <td>0.2136</td>\n      <td>-0.0959</td>\n      <td>0.043</td>\n      <td>0.526405</td>\n    </tr>\n    <tr>\n      <th>2000-03-31</th>\n      <td>A</td>\n      <td>0.001203</td>\n      <td>0.0520</td>\n      <td>-0.1720</td>\n      <td>0.0813</td>\n      <td>0.047</td>\n      <td>-0.045797</td>\n    </tr>\n    <tr>\n      <th>2000-05-31</th>\n      <td>A</td>\n      <td>-0.169252</td>\n      <td>-0.0442</td>\n      <td>-0.0605</td>\n      <td>0.0475</td>\n      <td>0.050</td>\n      <td>-0.219252</td>\n    </tr>\n    <tr>\n      <th>2000-06-30</th>\n      <td>A</td>\n      <td>0.001698</td>\n      <td>0.0464</td>\n      <td>0.1284</td>\n      <td>-0.0842</td>\n      <td>0.040</td>\n      <td>-0.038302</td>\n    </tr>\n    <tr>\n      <th>2000-07-31</th>\n      <td>A</td>\n      <td>-0.447458</td>\n      <td>-0.0251</td>\n      <td>-0.0307</td>\n      <td>0.0831</td>\n      <td>0.048</td>\n      <td>-0.495458</td>\n    </tr>\n    <tr>\n      <th>...</th>\n      <td>...</td>\n      <td>...</td>\n      <td>...</td>\n      <td>...</td>\n      <td>...</td>\n      <td>...</td>\n      <td>...</td>\n    </tr>\n    <tr>\n      <th>2022-06-30</th>\n      <td>ZTS</td>\n      <td>0.005616</td>\n      <td>-0.0843</td>\n      <td>0.0210</td>\n      <td>-0.0597</td>\n      <td>0.006</td>\n      <td>-0.000384</td>\n    </tr>\n    <tr>\n      <th>2022-08-31</th>\n      <td>ZTS</td>\n      <td>-0.142536</td>\n      <td>-0.0377</td>\n      <td>0.0140</td>\n      <td>0.0029</td>\n      <td>0.019</td>\n      <td>-0.161536</td>\n    </tr>\n    <tr>\n      <th>2022-09-30</th>\n      <td>ZTS</td>\n      <td>-0.052642</td>\n      <td>-0.0935</td>\n      <td>-0.0081</td>\n      <td>0.0005</td>\n      <td>0.019</td>\n      <td>-0.071642</td>\n    </tr>\n    <tr>\n      <th>2022-10-31</th>\n      <td>ZTS</td>\n      <td>0.018952</td>\n      <td>0.0783</td>\n      <td>0.0006</td>\n      <td>0.0801</td>\n      <td>0.023</td>\n      <td>-0.004048</td>\n    </tr>\n    <tr>\n      <th>2022-11-30</th>\n      <td>ZTS</td>\n      <td>0.022284</td>\n      <td>0.0460</td>\n      <td>-0.0352</td>\n      <td>0.0138</td>\n      <td>0.029</td>\n      <td>-0.006716</td>\n    </tr>\n  </tbody>\n</table>\n<p>86611 rows × 7 columns</p>\n</div>"
     },
     "execution_count": 16,
     "metadata": {},
     "output_type": "execute_result"
    }
   ],
   "source": [
    "merged['Excess Return'] = merged['Monthly Returns'] - merged['RF']\n",
    "merged"
   ],
   "metadata": {
    "collapsed": false,
    "ExecuteTime": {
     "end_time": "2023-10-25T17:24:41.786531700Z",
     "start_time": "2023-10-25T17:24:41.768779300Z"
    }
   },
   "id": "fdc8822a72cb19f6"
  },
  {
   "cell_type": "code",
   "execution_count": null,
   "outputs": [],
   "source": [
    "\"\"\"\n",
    "5., Rendezd sorba dátum szerint az adatokat, majd generálj egy új oszlopot ('ex_ret_1'), amely minden ticker ('Symbol') esetén 1-el eltolja az Excess Return értékeit olyan módon, hogy minden sorban szerepeljen a következő időszaki Excess Return érték. \n",
    "\"\"\""
   ],
   "metadata": {
    "collapsed": false
   },
   "id": "c6af93a4a3c53398"
  },
  {
   "cell_type": "markdown",
   "source": [
    "![new column](../resources/weekly6/ex_ret_1.jpg)"
   ],
   "metadata": {
    "collapsed": false
   },
   "id": "a6be746933376572"
  },
  {
   "cell_type": "code",
   "execution_count": 23,
   "outputs": [
    {
     "data": {
      "text/plain": "           Symbol  Monthly Returns  Mkt-RF     SMB     HML     RF  \\\nDate                                                                \n2000-01-31   CPRT        -0.987130 -0.0474  0.0577 -0.0188  0.041   \n2000-01-31    LNT        -0.988305 -0.0474  0.0577 -0.0188  0.041   \n2000-01-31   BKNG         6.844284 -0.0474  0.0577 -0.0188  0.041   \n2000-01-31    SPG        -0.889351 -0.0474  0.0577 -0.0188  0.041   \n2000-01-31    LMT        -0.971967 -0.0474  0.0577 -0.0188  0.041   \n...           ...              ...     ...     ...     ...    ...   \n2022-11-30     SO         0.043922  0.0460 -0.0352  0.0138  0.029   \n2022-11-30   CDNS         0.136403  0.0460 -0.0352  0.0138  0.029   \n2022-11-30   SNPS         0.160622  0.0460 -0.0352  0.0138  0.029   \n2022-11-30    STE         0.079310  0.0460 -0.0352  0.0138  0.029   \n2022-11-30    ZTS         0.022284  0.0460 -0.0352  0.0138  0.029   \n\n            Excess Return  ex_ret_1  \nDate                                 \n2000-01-31      -1.028130  0.194133  \n2000-01-31      -1.029305 -0.099604  \n2000-01-31       6.803284 -0.078560  \n2000-01-31      -0.930351 -0.076494  \n2000-01-31      -1.012967 -0.100433  \n...                   ...       ...  \n2022-11-30       0.014922       NaN  \n2022-11-30       0.107403       NaN  \n2022-11-30       0.131622       NaN  \n2022-11-30       0.050310       NaN  \n2022-11-30      -0.006716       NaN  \n\n[86611 rows x 8 columns]",
      "text/html": "<div>\n<style scoped>\n    .dataframe tbody tr th:only-of-type {\n        vertical-align: middle;\n    }\n\n    .dataframe tbody tr th {\n        vertical-align: top;\n    }\n\n    .dataframe thead th {\n        text-align: right;\n    }\n</style>\n<table border=\"1\" class=\"dataframe\">\n  <thead>\n    <tr style=\"text-align: right;\">\n      <th></th>\n      <th>Symbol</th>\n      <th>Monthly Returns</th>\n      <th>Mkt-RF</th>\n      <th>SMB</th>\n      <th>HML</th>\n      <th>RF</th>\n      <th>Excess Return</th>\n      <th>ex_ret_1</th>\n    </tr>\n    <tr>\n      <th>Date</th>\n      <th></th>\n      <th></th>\n      <th></th>\n      <th></th>\n      <th></th>\n      <th></th>\n      <th></th>\n      <th></th>\n    </tr>\n  </thead>\n  <tbody>\n    <tr>\n      <th>2000-01-31</th>\n      <td>CPRT</td>\n      <td>-0.987130</td>\n      <td>-0.0474</td>\n      <td>0.0577</td>\n      <td>-0.0188</td>\n      <td>0.041</td>\n      <td>-1.028130</td>\n      <td>0.194133</td>\n    </tr>\n    <tr>\n      <th>2000-01-31</th>\n      <td>LNT</td>\n      <td>-0.988305</td>\n      <td>-0.0474</td>\n      <td>0.0577</td>\n      <td>-0.0188</td>\n      <td>0.041</td>\n      <td>-1.029305</td>\n      <td>-0.099604</td>\n    </tr>\n    <tr>\n      <th>2000-01-31</th>\n      <td>BKNG</td>\n      <td>6.844284</td>\n      <td>-0.0474</td>\n      <td>0.0577</td>\n      <td>-0.0188</td>\n      <td>0.041</td>\n      <td>6.803284</td>\n      <td>-0.078560</td>\n    </tr>\n    <tr>\n      <th>2000-01-31</th>\n      <td>SPG</td>\n      <td>-0.889351</td>\n      <td>-0.0474</td>\n      <td>0.0577</td>\n      <td>-0.0188</td>\n      <td>0.041</td>\n      <td>-0.930351</td>\n      <td>-0.076494</td>\n    </tr>\n    <tr>\n      <th>2000-01-31</th>\n      <td>LMT</td>\n      <td>-0.971967</td>\n      <td>-0.0474</td>\n      <td>0.0577</td>\n      <td>-0.0188</td>\n      <td>0.041</td>\n      <td>-1.012967</td>\n      <td>-0.100433</td>\n    </tr>\n    <tr>\n      <th>...</th>\n      <td>...</td>\n      <td>...</td>\n      <td>...</td>\n      <td>...</td>\n      <td>...</td>\n      <td>...</td>\n      <td>...</td>\n      <td>...</td>\n    </tr>\n    <tr>\n      <th>2022-11-30</th>\n      <td>SO</td>\n      <td>0.043922</td>\n      <td>0.0460</td>\n      <td>-0.0352</td>\n      <td>0.0138</td>\n      <td>0.029</td>\n      <td>0.014922</td>\n      <td>NaN</td>\n    </tr>\n    <tr>\n      <th>2022-11-30</th>\n      <td>CDNS</td>\n      <td>0.136403</td>\n      <td>0.0460</td>\n      <td>-0.0352</td>\n      <td>0.0138</td>\n      <td>0.029</td>\n      <td>0.107403</td>\n      <td>NaN</td>\n    </tr>\n    <tr>\n      <th>2022-11-30</th>\n      <td>SNPS</td>\n      <td>0.160622</td>\n      <td>0.0460</td>\n      <td>-0.0352</td>\n      <td>0.0138</td>\n      <td>0.029</td>\n      <td>0.131622</td>\n      <td>NaN</td>\n    </tr>\n    <tr>\n      <th>2022-11-30</th>\n      <td>STE</td>\n      <td>0.079310</td>\n      <td>0.0460</td>\n      <td>-0.0352</td>\n      <td>0.0138</td>\n      <td>0.029</td>\n      <td>0.050310</td>\n      <td>NaN</td>\n    </tr>\n    <tr>\n      <th>2022-11-30</th>\n      <td>ZTS</td>\n      <td>0.022284</td>\n      <td>0.0460</td>\n      <td>-0.0352</td>\n      <td>0.0138</td>\n      <td>0.029</td>\n      <td>-0.006716</td>\n      <td>NaN</td>\n    </tr>\n  </tbody>\n</table>\n<p>86611 rows × 8 columns</p>\n</div>"
     },
     "execution_count": 23,
     "metadata": {},
     "output_type": "execute_result"
    }
   ],
   "source": [
    "merged = merged.sort_index()\n",
    "merged['ex_ret_1'] = merged.groupby('Symbol')['Excess Return'].shift(-1)\n",
    "merged"
   ],
   "metadata": {
    "collapsed": false,
    "ExecuteTime": {
     "end_time": "2023-10-25T17:28:51.402216300Z",
     "start_time": "2023-10-25T17:28:51.368961600Z"
    }
   },
   "id": "2285003630c207d3"
  },
  {
   "cell_type": "code",
   "execution_count": null,
   "id": "30fd1aa0c59afb47",
   "metadata": {
    "collapsed": false
   },
   "outputs": [],
   "source": [
    "\"\"\"\n",
    "6., A meglévő adathalmazt írd felül olyan módon, hogy egyszer törlöd az össze olyan sort, amely az 'ex_ret_1' oszlopban hiányos, majd ezt követően, törlöd az összes olyan sort, ami a 'HML' oszlopban hiányos\n",
    "\"\"\""
   ]
  },
  {
   "cell_type": "code",
   "execution_count": 26,
   "outputs": [
    {
     "data": {
      "text/plain": "           Symbol  Monthly Returns  Mkt-RF     SMB     HML     RF  \\\nDate                                                                \n2000-01-31   CPRT        -0.987130 -0.0474  0.0577 -0.0188  0.041   \n2000-01-31    LNT        -0.988305 -0.0474  0.0577 -0.0188  0.041   \n2000-01-31   BKNG         6.844284 -0.0474  0.0577 -0.0188  0.041   \n2000-01-31    SPG        -0.889351 -0.0474  0.0577 -0.0188  0.041   \n2000-01-31    LMT        -0.971967 -0.0474  0.0577 -0.0188  0.041   \n...           ...              ...     ...     ...     ...    ...   \n2022-10-31    APD         0.075925  0.0783  0.0006  0.0801  0.023   \n2022-10-31    CME        -0.021622  0.0783  0.0006  0.0801  0.023   \n2022-10-31   EBAY         0.082314  0.0783  0.0006  0.0801  0.023   \n2022-10-31      V         0.166113  0.0783  0.0006  0.0801  0.023   \n2022-10-31    USB         0.052827  0.0783  0.0006  0.0801  0.023   \n\n            Excess Return  ex_ret_1  \nDate                                 \n2000-01-31      -1.028130  0.194133  \n2000-01-31      -1.029305 -0.099604  \n2000-01-31       6.803284 -0.078560  \n2000-01-31      -0.930351 -0.076494  \n2000-01-31      -1.012967 -0.100433  \n...                   ...       ...  \n2022-10-31       0.052925  0.209658  \n2022-10-31      -0.044622 -0.010535  \n2022-10-31       0.059314  0.117324  \n2022-10-31       0.143113  0.020841  \n2022-10-31       0.029827  0.040258  \n\n[86113 rows x 8 columns]",
      "text/html": "<div>\n<style scoped>\n    .dataframe tbody tr th:only-of-type {\n        vertical-align: middle;\n    }\n\n    .dataframe tbody tr th {\n        vertical-align: top;\n    }\n\n    .dataframe thead th {\n        text-align: right;\n    }\n</style>\n<table border=\"1\" class=\"dataframe\">\n  <thead>\n    <tr style=\"text-align: right;\">\n      <th></th>\n      <th>Symbol</th>\n      <th>Monthly Returns</th>\n      <th>Mkt-RF</th>\n      <th>SMB</th>\n      <th>HML</th>\n      <th>RF</th>\n      <th>Excess Return</th>\n      <th>ex_ret_1</th>\n    </tr>\n    <tr>\n      <th>Date</th>\n      <th></th>\n      <th></th>\n      <th></th>\n      <th></th>\n      <th></th>\n      <th></th>\n      <th></th>\n      <th></th>\n    </tr>\n  </thead>\n  <tbody>\n    <tr>\n      <th>2000-01-31</th>\n      <td>CPRT</td>\n      <td>-0.987130</td>\n      <td>-0.0474</td>\n      <td>0.0577</td>\n      <td>-0.0188</td>\n      <td>0.041</td>\n      <td>-1.028130</td>\n      <td>0.194133</td>\n    </tr>\n    <tr>\n      <th>2000-01-31</th>\n      <td>LNT</td>\n      <td>-0.988305</td>\n      <td>-0.0474</td>\n      <td>0.0577</td>\n      <td>-0.0188</td>\n      <td>0.041</td>\n      <td>-1.029305</td>\n      <td>-0.099604</td>\n    </tr>\n    <tr>\n      <th>2000-01-31</th>\n      <td>BKNG</td>\n      <td>6.844284</td>\n      <td>-0.0474</td>\n      <td>0.0577</td>\n      <td>-0.0188</td>\n      <td>0.041</td>\n      <td>6.803284</td>\n      <td>-0.078560</td>\n    </tr>\n    <tr>\n      <th>2000-01-31</th>\n      <td>SPG</td>\n      <td>-0.889351</td>\n      <td>-0.0474</td>\n      <td>0.0577</td>\n      <td>-0.0188</td>\n      <td>0.041</td>\n      <td>-0.930351</td>\n      <td>-0.076494</td>\n    </tr>\n    <tr>\n      <th>2000-01-31</th>\n      <td>LMT</td>\n      <td>-0.971967</td>\n      <td>-0.0474</td>\n      <td>0.0577</td>\n      <td>-0.0188</td>\n      <td>0.041</td>\n      <td>-1.012967</td>\n      <td>-0.100433</td>\n    </tr>\n    <tr>\n      <th>...</th>\n      <td>...</td>\n      <td>...</td>\n      <td>...</td>\n      <td>...</td>\n      <td>...</td>\n      <td>...</td>\n      <td>...</td>\n      <td>...</td>\n    </tr>\n    <tr>\n      <th>2022-10-31</th>\n      <td>APD</td>\n      <td>0.075925</td>\n      <td>0.0783</td>\n      <td>0.0006</td>\n      <td>0.0801</td>\n      <td>0.023</td>\n      <td>0.052925</td>\n      <td>0.209658</td>\n    </tr>\n    <tr>\n      <th>2022-10-31</th>\n      <td>CME</td>\n      <td>-0.021622</td>\n      <td>0.0783</td>\n      <td>0.0006</td>\n      <td>0.0801</td>\n      <td>0.023</td>\n      <td>-0.044622</td>\n      <td>-0.010535</td>\n    </tr>\n    <tr>\n      <th>2022-10-31</th>\n      <td>EBAY</td>\n      <td>0.082314</td>\n      <td>0.0783</td>\n      <td>0.0006</td>\n      <td>0.0801</td>\n      <td>0.023</td>\n      <td>0.059314</td>\n      <td>0.117324</td>\n    </tr>\n    <tr>\n      <th>2022-10-31</th>\n      <td>V</td>\n      <td>0.166113</td>\n      <td>0.0783</td>\n      <td>0.0006</td>\n      <td>0.0801</td>\n      <td>0.023</td>\n      <td>0.143113</td>\n      <td>0.020841</td>\n    </tr>\n    <tr>\n      <th>2022-10-31</th>\n      <td>USB</td>\n      <td>0.052827</td>\n      <td>0.0783</td>\n      <td>0.0006</td>\n      <td>0.0801</td>\n      <td>0.023</td>\n      <td>0.029827</td>\n      <td>0.040258</td>\n    </tr>\n  </tbody>\n</table>\n<p>86113 rows × 8 columns</p>\n</div>"
     },
     "execution_count": 26,
     "metadata": {},
     "output_type": "execute_result"
    }
   ],
   "source": [
    "merged = merged.dropna(subset=['ex_ret_1'])\n",
    "merged = merged.dropna(subset=['HML'])\n",
    "merged"
   ],
   "metadata": {
    "collapsed": false,
    "ExecuteTime": {
     "end_time": "2023-10-25T17:29:39.973032100Z",
     "start_time": "2023-10-25T17:29:39.939743400Z"
    }
   },
   "id": "f333cdfad16d315f"
  },
  {
   "cell_type": "code",
   "execution_count": null,
   "id": "4637c401e0e6352c",
   "metadata": {
    "collapsed": false
   },
   "outputs": [],
   "source": [
    "\"\"\"\n",
    "A meglévő adatokból válaszd ki a Amazon részvényhez tartozó sorokat (AMZN) és töröld a tickereket tartalmazó oszlopot\n",
    "\n",
    "7., Készíts egy új LinearRegressionSM elnevezésű osztályt. Definiáld benne a __init__ nevű függvényt, amely bemenetként 2 DataDrame-t kap amelyeket ments le a left_hand_side és right_hand_side elnevezésű változókba. Az egyik DataFrame fogja tartalmazni a következő hónap többlet hozamait (left_hand_side), a másik a piaci hozamokat (Mkt-RF), az SMB és a HML értékeket (right_hand_side).\n",
    "\n",
    "8., Egésztsd ki az osztályt egy fit metódussal, ami meghívja a statsmodels segítségével OLS alapon becsült modellt illeszt az osztály adattagjaira. A becslésből visszakapott modellt mentse le az osztály _model adattagjába. Figyelj oda, hogy a regresszió futtatása során konstans (alfa / béta_0) is szerepeljen a predictor változók között.\n",
    "\n",
    "9., Egészítsd ki az osztályt egy get_params metódussal, ami visszaadja a becsült modellt béta paramétereinek értékeit. A visszakapott pandas Series típusú adatban az oszlop neve legyen 'Beta coefficients'\n",
    "\n",
    "10., Egészítsd ki az osztályt egy get_pvalues metódussal, ami visszaadja a becsült modell paraméterekhez tartozó p értékeket. A visszakapott pandas Series típusú adatban az oszlop neve legyen: P-values for the corresponding coefficients\n",
    "\n",
    "11., Egészítsd ki az osztályt egy get_wald_test_result metódussal, ami visszaadja a bemeneti restrikciós mátrix alapján számolt F és p értékeket. A visszatérési típus string legyen, a visszaadandó szöveg: F-value: fvalue, p-value: pvalue, ahol az fvalue és pvalue helyére 3 tizedesjegyre kerekítve adja meg a hozzájuk tartozó értékeket.\n",
    "\n",
    "12., Egészítse ki az osztályt egy get_model_goodness_values metódussal, ami visszadja a módosított R-négyzet, az Akaike és a Bayes információs kritériumok értékét. A visszatérési típus string legyen, a visszaadandó szöveg: Adjusted R-squared: ars, Akaike IC: ak, Bayes IC: by, ahol ars, ak és by helyére 3 tizedesjegyre kerekítve adja meg a hozzájuk tartozó értékeket.\n",
    "\n",
    "A létrehozott osztályt és a hozzátartozó metódusokat mentsd le a src.linear_regression mappába, a LinearRegressions.py fájlba.\n",
    "\"\"\""
   ]
  },
  {
   "cell_type": "code",
   "execution_count": null,
   "outputs": [],
   "source": [
    "merged = merged[merged['Symbol'] == 'AMZN']\n",
    "merged = merged.drop(columns=['Symbol'])\n",
    "merged"
   ],
   "metadata": {
    "collapsed": false
   },
   "id": "632e9b84be1a75ef"
  }
 ],
 "metadata": {
  "kernelspec": {
   "display_name": "Python 3 (ipykernel)",
   "language": "python",
   "name": "python3"
  },
  "language_info": {
   "codemirror_mode": {
    "name": "ipython",
    "version": 3
   },
   "file_extension": ".py",
   "mimetype": "text/x-python",
   "name": "python",
   "nbconvert_exporter": "python",
   "pygments_lexer": "ipython3",
   "version": "3.10.4"
  }
 },
 "nbformat": 4,
 "nbformat_minor": 5
}
